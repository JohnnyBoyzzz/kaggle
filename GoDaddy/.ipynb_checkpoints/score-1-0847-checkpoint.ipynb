{
 "cells": [
  {
   "cell_type": "markdown",
   "metadata": {},
   "source": [
    "In diesem Laptop habe ich Laptops von Prem Chotepanit, Chris Deotte, Tawara, Oumouhou_h verwendet"
   ]
  },
  {
   "cell_type": "code",
   "execution_count": null,
   "metadata": {},
   "outputs": [],
   "source": [
    "import gc\n",
    "import numpy as np\n",
    "import pandas as pd\n",
    "\n",
    "from tqdm.notebook import tqdm\n",
    "BASE = '../input/godaddy-microbusiness-density-forecasting/'\n",
    "\n",
    "def smape(y_true, y_pred):\n",
    "    smap = np.zeros(len(y_true))\n",
    "    \n",
    "    num = np.abs(y_true - y_pred)\n",
    "    dem = ((np.abs(y_true) + np.abs(y_pred)) / 2)\n",
    "    \n",
    "    pos_ind = (y_true!=0)|(y_pred!=0)\n",
    "    smap[pos_ind] = num[pos_ind] / dem[pos_ind]\n",
    "    \n",
    "    return 100 * np.mean(smap)\n",
    "\n",
    "def vsmape(y_true, y_pred):\n",
    "    smap = np.zeros(len(y_true))\n",
    "    \n",
    "    num = np.abs(y_true - y_pred)\n",
    "    dem = ((np.abs(y_true) + np.abs(y_pred)) / 2)\n",
    "    \n",
    "    pos_ind = (y_true!=0)|(y_pred!=0)\n",
    "    smap[pos_ind] = num[pos_ind] / dem[pos_ind]\n",
    "    \n",
    "    return 100 * smap\n",
    "\n",
    "\n",
    "!ls ../input/godaddy-microbusiness-density-forecasting"
   ]
  },
  {
   "cell_type": "code",
   "execution_count": null,
   "metadata": {
    "execution": {
     "iopub.execute_input": "2023-02-11T07:33:07.748124Z",
     "iopub.status.busy": "2023-02-11T07:33:07.747673Z",
     "iopub.status.idle": "2023-02-11T07:33:07.774587Z",
     "shell.execute_reply": "2023-02-11T07:33:07.77341Z",
     "shell.execute_reply.started": "2023-02-11T07:33:07.748084Z"
    },
    "papermill": {
     "duration": 0.083037,
     "end_time": "2023-01-25T08:12:09.910622",
     "exception": false,
     "start_time": "2023-01-25T08:12:09.827585",
     "status": "completed"
    },
    "tags": []
   },
   "outputs": [],
   "source": [
    "census = pd.read_csv(BASE + 'census_starter.csv')\n"
   ]
  },
  {
   "cell_type": "code",
   "execution_count": null,
   "metadata": {
    "execution": {
     "iopub.execute_input": "2023-02-11T07:33:07.776265Z",
     "iopub.status.busy": "2023-02-11T07:33:07.775933Z",
     "iopub.status.idle": "2023-02-11T07:33:08.462113Z",
     "shell.execute_reply": "2023-02-11T07:33:08.460687Z",
     "shell.execute_reply.started": "2023-02-11T07:33:07.776235Z"
    },
    "papermill": {
     "duration": 0.677082,
     "end_time": "2023-01-25T08:12:10.59762",
     "exception": false,
     "start_time": "2023-01-25T08:12:09.920538",
     "status": "completed"
    },
    "tags": []
   },
   "outputs": [],
   "source": [
    "train = pd.read_csv(BASE + 'train.csv')\n",
    "test = pd.read_csv(BASE + 'test.csv')\n",
    "sub = pd.read_csv(BASE + 'sample_submission.csv')\n",
    "print(train.shape, test.shape, sub.shape)\n",
    "\n",
    "train['istest'] = 0\n",
    "test['istest'] = 1\n",
    "raw = pd.concat((train, test)).sort_values(['cfips','row_id']).reset_index(drop=True)\n",
    "\n",
    "\n",
    "raw['first_day_of_month'] = pd.to_datetime(raw[\"first_day_of_month\"])\n",
    "raw['county'] = raw.groupby('cfips')['county'].ffill()\n",
    "raw['state'] = raw.groupby('cfips')['state'].ffill()\n",
    "raw[\"year\"] = raw[\"first_day_of_month\"].dt.year\n",
    "raw[\"month\"] = raw[\"first_day_of_month\"].dt.month\n",
    "raw[\"dcount\"] = raw.groupby(['cfips'])['row_id'].cumcount()\n",
    "raw['county_i'] = (raw['county'] + raw['state']).factorize()[0]\n",
    "raw['state_i'] = raw['state'].factorize()[0]\n"
   ]
  },
  {
   "cell_type": "markdown",
   "metadata": {
    "papermill": {
     "duration": 0.00989,
     "end_time": "2023-01-25T08:12:10.617811",
     "exception": false,
     "start_time": "2023-01-25T08:12:10.607921",
     "status": "completed"
    },
    "tags": []
   },
   "source": [
    "# There are some anomalies, specially at timestep 18"
   ]
  },
  {
   "cell_type": "code",
   "execution_count": null,
   "metadata": {
    "execution": {
     "iopub.execute_input": "2023-02-11T07:33:08.465196Z",
     "iopub.status.busy": "2023-02-11T07:33:08.464788Z",
     "iopub.status.idle": "2023-02-11T07:33:08.718398Z",
     "shell.execute_reply": "2023-02-11T07:33:08.717355Z",
     "shell.execute_reply.started": "2023-02-11T07:33:08.46516Z"
    },
    "papermill": {
     "duration": 0.245284,
     "end_time": "2023-01-25T08:12:10.873987",
     "exception": false,
     "start_time": "2023-01-25T08:12:10.628703",
     "status": "completed"
    },
    "tags": []
   },
   "outputs": [],
   "source": [
    "lag = 1\n",
    "raw[f'mbd_lag_{lag}'] = raw.groupby('cfips')['microbusiness_density'].shift(lag).bfill()\n",
    "raw['dif'] = (raw['microbusiness_density'] / raw[f'mbd_lag_{lag}']).fillna(1).clip(0, None) - 1\n",
    "raw.loc[(raw[f'mbd_lag_{lag}']==0), 'dif'] = 0\n",
    "raw.loc[(raw[f'microbusiness_density']>0) & (raw[f'mbd_lag_{lag}']==0), 'dif'] = 1\n",
    "raw['dif'] = raw['dif'].abs()\n",
    "raw.groupby('dcount')['dif'].sum().plot()"
   ]
  },
  {
   "cell_type": "code",
   "execution_count": null,
   "metadata": {
    "execution": {
     "iopub.execute_input": "2023-02-11T07:33:08.721391Z",
     "iopub.status.busy": "2023-02-11T07:33:08.720004Z",
     "iopub.status.idle": "2023-02-11T07:33:16.498446Z",
     "shell.execute_reply": "2023-02-11T07:33:16.497076Z",
     "shell.execute_reply.started": "2023-02-11T07:33:08.721338Z"
    },
    "papermill": {
     "duration": 5.288235,
     "end_time": "2023-01-25T08:12:16.172834",
     "exception": false,
     "start_time": "2023-01-25T08:12:10.884599",
     "status": "completed"
    },
    "scrolled": true,
    "tags": []
   },
   "outputs": [],
   "source": [
    "outliers = []\n",
    "cnt = 0\n",
    "for o in tqdm(raw.cfips.unique()):\n",
    "    indices = (raw['cfips']==o)\n",
    "    tmp = raw.loc[indices].copy().reset_index(drop=True)\n",
    "    var = tmp.microbusiness_density.values.copy()\n",
    "    #vmax = np.max(var[:38]) - np.min(var[:38])\n",
    "    \n",
    "    for i in range(37, 2, -1):\n",
    "        thr = 0.20*np.mean(var[:i])\n",
    "        difa = abs(var[i]-var[i-1])\n",
    "        if (difa>=thr):\n",
    "            var[:i] *= (var[i]/var[i-1])\n",
    "            outliers.append(o)\n",
    "            cnt+=1\n",
    "    var[0] = var[1]*0.99\n",
    "    raw.loc[indices, 'microbusiness_density'] = var\n",
    "    \n",
    "outliers = np.unique(outliers)\n",
    "len(outliers), cnt"
   ]
  },
  {
   "cell_type": "code",
   "execution_count": null,
   "metadata": {
    "execution": {
     "iopub.execute_input": "2023-02-11T07:33:16.500518Z",
     "iopub.status.busy": "2023-02-11T07:33:16.500052Z",
     "iopub.status.idle": "2023-02-11T07:33:16.748772Z",
     "shell.execute_reply": "2023-02-11T07:33:16.747566Z",
     "shell.execute_reply.started": "2023-02-11T07:33:16.500485Z"
    },
    "papermill": {
     "duration": 0.187051,
     "end_time": "2023-01-25T08:12:16.372007",
     "exception": false,
     "start_time": "2023-01-25T08:12:16.184956",
     "status": "completed"
    },
    "tags": []
   },
   "outputs": [],
   "source": [
    "lag = 1\n",
    "raw[f'mbd_lag_{lag}'] = raw.groupby('cfips')['microbusiness_density'].shift(lag).bfill()\n",
    "raw['dif'] = (raw['microbusiness_density'] / raw[f'mbd_lag_{lag}']).fillna(1).clip(0, None) - 1\n",
    "raw.loc[(raw[f'mbd_lag_{lag}']==0), 'dif'] = 0\n",
    "raw.loc[(raw[f'microbusiness_density']>0) & (raw[f'mbd_lag_{lag}']==0), 'dif'] = 1\n",
    "raw['dif'] = raw['dif'].abs()\n",
    "raw.groupby('dcount')['dif'].sum().plot()"
   ]
  },
  {
   "cell_type": "code",
   "execution_count": null,
   "metadata": {
    "execution": {
     "iopub.execute_input": "2023-02-11T07:33:16.751242Z",
     "iopub.status.busy": "2023-02-11T07:33:16.750493Z",
     "iopub.status.idle": "2023-02-11T07:33:17.226522Z",
     "shell.execute_reply": "2023-02-11T07:33:17.225399Z",
     "shell.execute_reply.started": "2023-02-11T07:33:16.7512Z"
    },
    "papermill": {
     "duration": 0.339494,
     "end_time": "2023-01-25T08:12:16.722456",
     "exception": false,
     "start_time": "2023-01-25T08:12:16.382962",
     "status": "completed"
    },
    "tags": []
   },
   "outputs": [],
   "source": [
    "raw.loc[raw.cfips == 1013].plot(x='dcount', y='microbusiness_density')\n",
    "raw.loc[raw.cfips == 21215].plot(x='dcount', y='microbusiness_density')"
   ]
  },
  {
   "cell_type": "markdown",
   "metadata": {
    "papermill": {
     "duration": 0.011303,
     "end_time": "2023-01-25T08:12:16.745425",
     "exception": false,
     "start_time": "2023-01-25T08:12:16.734122",
     "status": "completed"
    },
    "tags": []
   },
   "source": [
    "# SMAPE is a relative metric so target must be converted."
   ]
  },
  {
   "cell_type": "code",
   "execution_count": null,
   "metadata": {
    "execution": {
     "iopub.execute_input": "2023-02-11T07:33:17.22833Z",
     "iopub.status.busy": "2023-02-11T07:33:17.227997Z",
     "iopub.status.idle": "2023-02-11T07:33:17.272516Z",
     "shell.execute_reply": "2023-02-11T07:33:17.271266Z",
     "shell.execute_reply.started": "2023-02-11T07:33:17.2283Z"
    },
    "papermill": {
     "duration": 0.050784,
     "end_time": "2023-01-25T08:12:16.807793",
     "exception": false,
     "start_time": "2023-01-25T08:12:16.757009",
     "status": "completed"
    },
    "scrolled": true,
    "tags": []
   },
   "outputs": [],
   "source": [
    "raw['target'] = raw.groupby('cfips')['microbusiness_density'].shift(-1)\n",
    "raw['target'] = raw['target']/raw['microbusiness_density'] - 1\n",
    "\n",
    "raw.loc[raw['cfips']==28055, 'target'] = 0.0\n",
    "raw.loc[raw['cfips']==48269, 'target'] = 0.0\n",
    "\n",
    "raw.iloc[-20:,:20]"
   ]
  },
  {
   "cell_type": "code",
   "execution_count": null,
   "metadata": {
    "execution": {
     "iopub.execute_input": "2023-02-11T07:33:17.275829Z",
     "iopub.status.busy": "2023-02-11T07:33:17.274847Z",
     "iopub.status.idle": "2023-02-11T07:33:17.697436Z",
     "shell.execute_reply": "2023-02-11T07:33:17.695929Z",
     "shell.execute_reply.started": "2023-02-11T07:33:17.275778Z"
    },
    "papermill": {
     "duration": 0.464556,
     "end_time": "2023-01-25T08:12:17.285145",
     "exception": false,
     "start_time": "2023-01-25T08:12:16.820589",
     "status": "completed"
    },
    "tags": []
   },
   "outputs": [],
   "source": [
    "raw['target'].clip(-0.05, 0.05).hist(bins=100)"
   ]
  },
  {
   "cell_type": "code",
   "execution_count": null,
   "metadata": {
    "execution": {
     "iopub.execute_input": "2023-02-11T07:33:17.703378Z",
     "iopub.status.busy": "2023-02-11T07:33:17.702975Z",
     "iopub.status.idle": "2023-02-11T07:33:18.022983Z",
     "shell.execute_reply": "2023-02-11T07:33:18.021562Z",
     "shell.execute_reply.started": "2023-02-11T07:33:17.703344Z"
    },
    "papermill": {
     "duration": 0.238064,
     "end_time": "2023-01-25T08:12:17.535897",
     "exception": false,
     "start_time": "2023-01-25T08:12:17.297833",
     "status": "completed"
    },
    "tags": []
   },
   "outputs": [],
   "source": [
    "raw['lastactive'] = raw.groupby('cfips')['active'].transform('last')\n",
    "\n",
    "dt = raw.loc[raw.dcount==28].groupby('cfips')['microbusiness_density'].agg('last')\n",
    "raw['lasttarget'] = raw['cfips'].map(dt)\n",
    "\n",
    "raw['lastactive'].clip(0, 8000).hist(bins=30)"
   ]
  },
  {
   "cell_type": "markdown",
   "metadata": {
    "papermill": {
     "duration": 0.013218,
     "end_time": "2023-01-25T08:12:17.562178",
     "exception": false,
     "start_time": "2023-01-25T08:12:17.54896",
     "status": "completed"
    },
    "tags": []
   },
   "source": [
    "# Feature Engineering"
   ]
  },
  {
   "cell_type": "code",
   "execution_count": null,
   "metadata": {
    "execution": {
     "iopub.execute_input": "2023-02-11T07:33:18.024838Z",
     "iopub.status.busy": "2023-02-11T07:33:18.024421Z",
     "iopub.status.idle": "2023-02-11T07:33:18.036717Z",
     "shell.execute_reply": "2023-02-11T07:33:18.035069Z",
     "shell.execute_reply.started": "2023-02-11T07:33:18.024804Z"
    },
    "papermill": {
     "duration": 0.025201,
     "end_time": "2023-01-25T08:12:17.600799",
     "exception": false,
     "start_time": "2023-01-25T08:12:17.575598",
     "status": "completed"
    },
    "tags": []
   },
   "outputs": [],
   "source": [
    "def build_features(raw, target='microbusiness_density', target_act='active_tmp', lags = 6):\n",
    "    feats = []\n",
    "    for lag in range(1, lags):\n",
    "        raw[f'mbd_lag_{lag}'] = raw.groupby('cfips')[target].shift(lag)\n",
    "        raw[f'act_lag_{lag}'] = raw.groupby('cfips')[target_act].diff(lag)\n",
    "        feats.append(f'mbd_lag_{lag}')\n",
    "        feats.append(f'act_lag_{lag}')\n",
    "        \n",
    "    lag = 1\n",
    "    for window in [2, 4, 6, 8, 10]:\n",
    "        raw[f'mbd_rollmea{window}_{lag}'] = raw.groupby('cfips')[f'mbd_lag_{lag}'].transform(lambda s: s.rolling(window, min_periods=1).sum())        \n",
    "        #raw[f'mbd_rollmea{window}_{lag}'] = raw[f'mbd_lag_{lag}'] - raw[f'mbd_rollmea{window}_{lag}']\n",
    "        feats.append(f'mbd_rollmea{window}_{lag}')\n",
    "    \n",
    "    census_columns = list(census.columns)\n",
    "    census_columns.remove( \"cfips\")\n",
    "    \n",
    "    raw = raw.merge(census, on=\"cfips\", how=\"left\")\n",
    "    feats += census_columns\n",
    "    \n",
    "    return raw, feats"
   ]
  },
  {
   "cell_type": "code",
   "execution_count": null,
   "metadata": {
    "execution": {
     "iopub.execute_input": "2023-02-11T07:33:18.038845Z",
     "iopub.status.busy": "2023-02-11T07:33:18.038269Z",
     "iopub.status.idle": "2023-02-11T07:33:26.063087Z",
     "shell.execute_reply": "2023-02-11T07:33:26.061808Z",
     "shell.execute_reply.started": "2023-02-11T07:33:18.038793Z"
    },
    "papermill": {
     "duration": 6.035352,
     "end_time": "2023-01-25T08:12:23.64931",
     "exception": false,
     "start_time": "2023-01-25T08:12:17.613958",
     "status": "completed"
    },
    "scrolled": true,
    "tags": []
   },
   "outputs": [],
   "source": [
    "# Build Features based in lag of target\n",
    "raw, feats = build_features(raw, 'target', 'active', lags = 5)\n",
    "features = ['state_i']\n",
    "features += feats\n",
    "# print(features)\n",
    "# raw.loc[raw.dcount==38, features].head(10)"
   ]
  },
  {
   "cell_type": "code",
   "execution_count": null,
   "metadata": {
    "execution": {
     "iopub.execute_input": "2023-02-11T07:33:26.06524Z",
     "iopub.status.busy": "2023-02-11T07:33:26.064856Z",
     "iopub.status.idle": "2023-02-11T07:33:26.50352Z",
     "shell.execute_reply": "2023-02-11T07:33:26.502285Z",
     "shell.execute_reply.started": "2023-02-11T07:33:26.065208Z"
    },
    "papermill": {
     "duration": 0.322472,
     "end_time": "2023-01-25T08:12:23.984942",
     "exception": false,
     "start_time": "2023-01-25T08:12:23.66247",
     "status": "completed"
    },
    "tags": []
   },
   "outputs": [],
   "source": [
    "raw['lasttarget'].clip(0,10).hist(bins=100)"
   ]
  },
  {
   "cell_type": "code",
   "execution_count": null,
   "metadata": {
    "execution": {
     "iopub.execute_input": "2023-02-11T07:33:26.505721Z",
     "iopub.status.busy": "2023-02-11T07:33:26.505136Z",
     "iopub.status.idle": "2023-02-11T07:33:26.518517Z",
     "shell.execute_reply": "2023-02-11T07:33:26.517108Z",
     "shell.execute_reply.started": "2023-02-11T07:33:26.505683Z"
    },
    "papermill": {
     "duration": 0.027931,
     "end_time": "2023-01-25T08:12:24.027084",
     "exception": false,
     "start_time": "2023-01-25T08:12:23.999153",
     "status": "completed"
    },
    "tags": []
   },
   "outputs": [],
   "source": [
    "def get_model():\n",
    "    from sklearn.ensemble import VotingRegressor\n",
    "    import lightgbm as lgb\n",
    "    import xgboost as xgb\n",
    "    import catboost as cat\n",
    "    from sklearn.pipeline import Pipeline\n",
    "    from sklearn.neighbors import KNeighborsRegressor\n",
    "    from sklearn.impute import KNNImputer\n",
    "    \n",
    "    params = {\n",
    "    'n_iter': 200,\n",
    "    'verbosity': -1,\n",
    "    'objective': 'l1',\n",
    "    'random_state': 42,\n",
    "    'colsample_bytree': 0.8841279649367693,\n",
    "    'colsample_bynode': 0.10142964450634374,\n",
    "    'max_depth': 8,\n",
    "    'learning_rate': 0.013647749926797374,\n",
    "    'lambda_l1': 1.8386216853616875,\n",
    "    'lambda_l2': 7.557660410418351,\n",
    "    'num_leaves': 61,\n",
    "    \"seed\": 42,\n",
    "    'min_data_in_leaf': 213}\n",
    "\n",
    "    lgb_model = lgb.LGBMRegressor(**params)\n",
    "#     params = {\n",
    "#         'objective': 'huber',\n",
    "#         'metric': 'mae', \n",
    "#         \"seed\": 42,\n",
    "#     }\n",
    "\n",
    "#     lgb_model = lgb.LGBMRegressor(\n",
    "#         n_estimators=1200,\n",
    "#         learning_rate=0.075,\n",
    "#         max_leaves = 31,\n",
    "#         subsample=0.60,\n",
    "#         colsample_bytree=0.50,\n",
    "#         max_bin=4096,\n",
    "#         l2=0.1,\n",
    "#         **params\n",
    "#     )\n",
    "    \n",
    "    xgb_model = xgb.XGBRegressor(\n",
    "        objective='reg:pseudohubererror',\n",
    "        #objective='reg:squarederror',\n",
    "        tree_method=\"hist\",\n",
    "        n_estimators=795,\n",
    "        learning_rate=0.0075,\n",
    "        max_leaves = 17,\n",
    "        subsample=0.50,\n",
    "        colsample_bytree=0.50,\n",
    "        max_bin=4096,\n",
    "        n_jobs=2,\n",
    "#         eval_metric='mae',\n",
    "#         early_stopping_rounds=70,\n",
    "    )\n",
    "    \n",
    "    cat_model = cat.CatBoostRegressor(\n",
    "        iterations=1200,\n",
    "        loss_function=\"MAPE\",\n",
    "        verbose=0,\n",
    "#         objective=\"Huber\",\n",
    "        learning_rate=0.075,\n",
    "        l2_leaf_reg=0.2,\n",
    "#         max_leaves = 17,\n",
    "        subsample=0.50,\n",
    "        max_bin=4096,\n",
    "#         delta=0.01\n",
    "    )\n",
    "    \n",
    "\n",
    "    knn_model = Pipeline([\n",
    "        ('imputer',  KNNImputer(n_neighbors=2)),\n",
    "        ('knn', KNeighborsRegressor(5))\n",
    "    ])\n",
    "    \n",
    "    return VotingRegressor([\n",
    "        ('xgb', xgb_model),\n",
    "        ('lgb', lgb_model),\n",
    "        ('cat', cat_model),\n",
    "        ('knn', knn_model)\n",
    "    ])\n",
    "    "
   ]
  },
  {
   "cell_type": "code",
   "execution_count": null,
   "metadata": {
    "execution": {
     "iopub.execute_input": "2023-02-11T07:33:26.520918Z",
     "iopub.status.busy": "2023-02-11T07:33:26.520018Z",
     "iopub.status.idle": "2023-02-11T07:39:06.931189Z",
     "shell.execute_reply": "2023-02-11T07:39:06.929837Z",
     "shell.execute_reply.started": "2023-02-11T07:33:26.520865Z"
    },
    "papermill": {
     "duration": 501.423033,
     "end_time": "2023-01-25T08:20:45.464246",
     "exception": false,
     "start_time": "2023-01-25T08:12:24.041213",
     "status": "completed"
    },
    "scrolled": true,
    "tags": []
   },
   "outputs": [],
   "source": [
    "blacklist = [\n",
    "    'North Dakota', 'Iowa', 'Kansas', 'Nebraska', 'South Dakota','New Mexico', 'Alaska', 'Vermont'\n",
    "]\n",
    "blacklistcfips = [\n",
    "1019,1027,1029,1035,1039,1045,1049,1057,1067,1071,1077,1085,1091,1099,1101,1123,1131,1133,4001,4012,4013,4021,4023,5001,5003,5005,5017,5019,5027,5031,5035,5047,5063,5065,5071,5081,5083,5087,5091,5093,5107,5109,5115,5121,5137,5139,5141,5147,6003,6015,6027,6033,6053,6055,6057,6071,6093,6097,6103,6105,6115,8003,8007,8009,8019,8021,8023,8047,8051,8053,8055,8057,8059,8061,8065,8067,8069,8071,8073,8075,8085,8091,8093,8097,8099,8103,8105,8107,8109,8111,8115,8117,8121,9007,9009,9015,12009,12017,12019,12029,12047,12055,12065,12075,12093,12107,12127,13005,13007,13015,13017,13019,13027,13035,13047,13065,13081,13083,13099,13107,13109,13117,13119,13121,13123,13125,13127,13135,13143,13147,13161,13165,13171,13175,13181,13193,13201,13221,13225,13229,13231,13233,13245,13247,13249,13257,13279,13281,13287,13289,13293,13301,13319,15001,15005,15007,16001,16003,16005,16007,16013,16015,16017,16023,16025,16029,16031,16033,16035,16037,16043,16045,16049,16061,16063,16067,17001,17003,17007,17009,17013,17015,17023,17025,17031,17035,17045,17051,17059,17061,17063,17065,17067,17069,17075,17077,17081,17085,17087,17103,17105,17107,17109,17115,17117,17123,17127,17133,17137,17141,17143,17147,17153,17167,17169,17171,17177,17179,17181,17185,17187,17193,18001,18007,18009,18013,18015,18019,18021,18025,18035,18037,18039,18041,18053,18061,18075,18079,18083,18087,18099,18103,18111,18113,18115,18137,18139,18145,18153,18171,18179,21001,21003,21013,21017,21023,21029,21035,21037,21039,21045,21047,21055,21059,21065,21075,21077,21085,21091,21093,21097,21099,21101,21103,21115,21125,21137,21139,21141,21149,21155,21157,21161,21165,21179,21183,21191,21197,21199,21215,21217,21223,21227,21237,21239,22019,22021,22031,22039,22041,22047,22069,22085,22089,22101,22103,22109,22111,22115,22119,22121,23003,23009,23021,23027,23029,24011,24027,24029,24031,24035,24037,24039,24041,25011,25015,26003,26007,26011,26019,26021,26025,26027,26033,26037,26041,26043,26051,26053,26057,26059,26061,26065,26071,26077,26079,26083,26089,26097,26101,26103,26109,26111,26115,26117,26119,26127,26129,26131,26135,26141,26143,26155,26161,26165,27005,27011,27013,27015,27017,27021,27023,27025,27029,27047,27051,27055,27057,27065,27069,27073,27075,27077,27079,27087,27091,27095,27101,27103,27105,27107,27109,27113,27117,27119,27123,27125,27129,27131,27133,27135,27141,27147,27149,27155,27159,27167,27169,28017,28019,28023,28025,28035,28045,28049,28061,28063,28093,28097,28099,28125,28137,28139,28147,28159,29001,29015,29019,29031,29033,29041,29049,29051,29055,29057,29063,29065,29069,29075,29085,29089,29101,29103,29111,29121,29123,29125,29135,29137,29139,29143,29157,29159,29161,29167,29171,29173,29175,29177,29183,29195,29197,29199,29203,29205,29207,29209,29213,29215,29217,29223,29227,29229,30005,30009,30025,30027,30033,30035,30037,30039,30045,30049,30051,30053,30055,30057,30059,30069,30071,30073,30077,30079,30083,30085,30089,30091,30093,30101,30103,30105,30107,30109,32005,32009,32017,32023,32027,32029,32510,33005,33007,34021,34027,34033,34035,36011,36017,36023,36033,36043,36047,36049,36051,36057,36061,36067,36083,36091,36097,36103,36107,36113,36115,36121,36123,37005,37009,37011,37017,37023,37029,37031,37049,37061,37075,37095,37117,37123,37131,37137,37151,37187,37189,37197,39005,39009,39015,39017,39019,39023,39037,39039,39043,39049,39053,39057,39063,39067,39071,39077,39085,39087,39091,39097,39105,39107,39113,39117,39119,39125,39127,39129,39135,39137,39151,39153,39157,40003,40013,40015,40023,40025,40027,40035,40039,40043,40045,40053,40055,40057,40059,40065,40067,40073,40077,40079,40099,40105,40107,40111,40115,40123,40127,40129,40133,40141,40147,40151,40153,41001,41007,41013,41015,41017,41021,41025,41031,41033,41037,41051,41055,41063,41067,41069,42005,42007,42011,42013,42015,42019,42027,42029,42031,42035,42053,42057,42067,42071,42083,42085,42093,42097,42105,42111,42113,42115,42123,42125,42127,42129,44005,44007,44009,45001,45009,45021,45025,45031,45059,45067,45071,45073,45089,47001,47005,47013,47015,47019,47021,47023,47027,47035,47039,47041,47047,47055,47057,47059,47061,47069,47073,47075,47077,47083,47087,47099,47105,47121,47127,47131,47133,47135,47137,47147,47151,47153,47159,47161,47163,47169,47177,47183,47185,48001,48011,48017,48019,48045,48057,48059,48063,48065,48073,48077,48079,48081,48083,48087,48095,48101,48103,48107,48109,48115,48117,48119,48123,48125,48129,48149,48151,48153,48155,48159,48161,48165,48175,48189,48191,48195,48197,48211,48221,48229,48233,48235,48237,48239,48241,48243,48245,48255,48261,48263,48265,48267,48269,48275,48277,48283,48293,48299,48305,48311,48313,48319,48321,48323,48327,48333,48345,48347,48355,48369,48377,48379,48383,48387,48389,48401,48403,48413,48417,48431,48433,48437,48443,48447,48453,48455,48457,48461,48463,48465,48469,48471,48481,48483,48485,48487,48495,48499,49001,49009,49013,49019,49027,49031,49045,51005,51017,51025,51029,51031,51036,51037,51043,51057,51059,51065,51071,51073,51077,51079,51083,51091,51095,51097,51101,51111,51115,51119,51121,51127,51135,51147,51155,51159,51165,51167,51171,51173,51181,51183,51191,51197,51530,51590,51610,51620,51670,51678,51720,51735,51750,51770,51810,51820,53013,53019,53023,53031,53033,53037,53039,53041,53047,53065,53069,53071,53075,54013,54019,54025,54031,54033,54041,54049,54055,54057,54063,54067,54071,54077,54079,54085,54089,54103,55001,55003,55005,55007,55011,55017,55021,55025,55029,55037,55043,55047,55049,55051,55061,55065,55067,55075,55077,55091,55097,55101,55103,55109,55117,55123,55125,55127,56007,56009,56011,56015,56017,56019,56021,56027,56031,56037,56043,56045,\n",
    "12061,  6095, 49025, 18073, 29029, 29097, 48419, 51830, 30067, 26095, 18159, 32001, 54065, 54027, 13043, 48177, 55069, 48137, 30087, 29007, 13055, 48295, 28157, 29037, 45061, 22053, 13199, 47171, 53001, 55041, 51195, 18127, 29151, 48307, 51009, 16047, 29133,  5145, 17175, 21027, 48357, 29179, 13023, 16077, 48371, 21057, 16039, 21143, 48435, 48317, 48475,  5129, 36041, 48075, 29017, 47175, 39167, 47109, 17189, 17173, 28009, 39027, 48133, 18129, 48217, 40081, 36021,  6005, 42099, 18051, 36055, 53051, 6109, 21073, 27019,  6051, 48055,  8083, 48503, 17021, 10003, 41061, 22001, 22011, 21205, 48223, 51103, 51047, 16069, 17033, 41011,  6035, 47145, 27083, 18165, 36055, 12001, 26159,  8125, 34017,\n",
    "28141, 55119, 48405, 40029, 18125, 21135, 29073, 55115, 37149,55039, 26029, 12099, 13251, 48421, 39007, 41043, 22015, 37115,54099, 51137, 22049, 55131, 17159, 56001, 40005, 18017, 28091,47101, 27037, 29005, 13239, 21019, 55085, 48253, 51139, 40101,13283, 18049, 39163, 45049, 51113,\n",
    "]\n",
    "ACT_THR = 140\n",
    "ABS_THR = 0\n",
    "raw['ypred_last'] = np.nan\n",
    "raw['ypred'] = np.nan\n",
    "raw['k'] = 1.\n",
    "VAL = []\n",
    "\n",
    "for TS in range(37, 38):\n",
    "    print(TS)\n",
    "    \n",
    "    model = get_model()\n",
    "            \n",
    "    train_indices = (raw.istest==0) & (raw.dcount  < TS) & (raw.dcount >= 1) & (raw.lastactive>ACT_THR)  & (raw.lasttarget>ABS_THR) \n",
    "    valid_indices = (raw.istest==0) & (raw.dcount == TS)\n",
    "    model.fit(\n",
    "        raw.loc[train_indices, features],\n",
    "        raw.loc[train_indices, 'target'].clip(-0.0043, 0.0045),\n",
    "#         eval_set=[(raw.loc[valid_indices, features], raw.loc[valid_indices, 'target'])],\n",
    "#         verbose=500,\n",
    "    )\n",
    "\n",
    "    ypred = model.predict(raw.loc[valid_indices, features])\n",
    "    raw.loc[valid_indices, 'k'] = ypred + 1\n",
    "    raw.loc[valid_indices,'k'] = raw.loc[valid_indices,'k'] * raw.loc[valid_indices,'microbusiness_density']\n",
    "\n",
    "    # Validate\n",
    "    lastval = raw.loc[raw.dcount==TS, ['cfips', 'microbusiness_density']].set_index('cfips').to_dict()['microbusiness_density']\n",
    "    dt = raw.loc[raw.dcount==TS, ['cfips', 'k']].set_index('cfips').to_dict()['k']\n",
    "    \n",
    "    df = raw.loc[raw.dcount==(TS+1), ['cfips', 'microbusiness_density', 'state', 'lastactive', 'mbd_lag_1']].reset_index(drop=True)\n",
    "    df['pred'] = df['cfips'].map(dt)\n",
    "    df['lastval'] = df['cfips'].map(lastval)\n",
    "    \n",
    "    df.loc[df['lastactive']<=ACT_THR, 'pred'] = df.loc[df['lastactive']<=ACT_THR, 'lastval']\n",
    "    df.loc[df['lastval']<=ABS_THR, 'pred'] = df.loc[df['lastval']<=ABS_THR, 'lastval']\n",
    "    df.loc[df['state'].isin(blacklist), 'pred'] = df.loc[df['state'].isin(blacklist), 'lastval']\n",
    "    df.loc[df['cfips'].isin(blacklistcfips), 'pred'] = df.loc[df['cfips'].isin(blacklistcfips), 'lastval']\n",
    "    raw.loc[raw.dcount==(TS+1), 'ypred'] = df['pred'].values\n",
    "    raw.loc[raw.dcount==(TS+1), 'ypred_last'] = df['lastval'].values\n",
    "    \n",
    "    print(f'TS: {TS}')\n",
    "    print('Last Value SMAPE:', smape(df['microbusiness_density'], df['lastval']) )\n",
    "    print('SMAPE:', smape(df['microbusiness_density'], df['pred']))\n",
    "    print()\n",
    "\n",
    "\n",
    "ind = (raw.dcount>=37)&(raw.dcount<=38)\n",
    "print( 'SMAPE:', smape( raw.loc[ind, 'microbusiness_density'],  raw.loc[ind, 'ypred'] ) )\n",
    "print( 'Last Value SMAPE:', smape( raw.loc[ind, 'microbusiness_density'],  raw.loc[ind, 'ypred_last'] ) )"
   ]
  },
  {
   "cell_type": "code",
   "execution_count": null,
   "metadata": {
    "execution": {
     "iopub.execute_input": "2023-02-11T07:39:06.9336Z",
     "iopub.status.busy": "2023-02-11T07:39:06.932987Z",
     "iopub.status.idle": "2023-02-11T07:39:07.006177Z",
     "shell.execute_reply": "2023-02-11T07:39:07.004742Z",
     "shell.execute_reply.started": "2023-02-11T07:39:06.933553Z"
    },
    "papermill": {
     "duration": 0.058925,
     "end_time": "2023-01-25T08:20:45.537901",
     "exception": false,
     "start_time": "2023-01-25T08:20:45.478976",
     "status": "completed"
    },
    "tags": []
   },
   "outputs": [],
   "source": [
    "raw['error'] = vsmape(raw['microbusiness_density'], raw['ypred'])\n",
    "raw['error_last'] = vsmape(raw['microbusiness_density'], raw['ypred_last'])\n",
    "raw.loc[(raw.dcount==30), ['microbusiness_density', 'ypred', 'error', 'error_last'] ]"
   ]
  },
  {
   "cell_type": "code",
   "execution_count": null,
   "metadata": {
    "execution": {
     "iopub.execute_input": "2023-02-11T07:39:07.010343Z",
     "iopub.status.busy": "2023-02-11T07:39:07.009947Z",
     "iopub.status.idle": "2023-02-11T07:39:07.048814Z",
     "shell.execute_reply": "2023-02-11T07:39:07.047448Z",
     "shell.execute_reply.started": "2023-02-11T07:39:07.010308Z"
    },
    "papermill": {
     "duration": 0.053038,
     "end_time": "2023-01-25T08:20:45.896017",
     "exception": false,
     "start_time": "2023-01-25T08:20:45.842979",
     "status": "completed"
    },
    "tags": []
   },
   "outputs": [],
   "source": [
    "dt = raw.loc[(raw.dcount>=30)&(raw.dcount<=38) ].groupby(['cfips','dcount'])['error', 'error_last'].last()\n",
    "dt['miss'] = dt['error'] > dt['error_last']\n",
    "dt = dt.groupby('cfips')['miss'].mean()\n",
    "dt = dt.loc[dt>=0.50]\n",
    "dt.shape"
   ]
  },
  {
   "cell_type": "code",
   "execution_count": null,
   "metadata": {
    "execution": {
     "iopub.execute_input": "2023-02-11T07:39:07.050912Z",
     "iopub.status.busy": "2023-02-11T07:39:07.050491Z",
     "iopub.status.idle": "2023-02-11T07:39:07.058913Z",
     "shell.execute_reply": "2023-02-11T07:39:07.057287Z",
     "shell.execute_reply.started": "2023-02-11T07:39:07.050854Z"
    },
    "papermill": {
     "duration": 0.029432,
     "end_time": "2023-01-25T08:20:45.942502",
     "exception": false,
     "start_time": "2023-01-25T08:20:45.91307",
     "status": "completed"
    },
    "tags": []
   },
   "outputs": [],
   "source": [
    "len(dt.index)"
   ]
  },
  {
   "cell_type": "code",
   "execution_count": null,
   "metadata": {
    "execution": {
     "iopub.execute_input": "2023-02-11T07:39:07.060512Z",
     "iopub.status.busy": "2023-02-11T07:39:07.060181Z",
     "iopub.status.idle": "2023-02-11T07:39:07.07378Z",
     "shell.execute_reply": "2023-02-11T07:39:07.072432Z",
     "shell.execute_reply.started": "2023-02-11T07:39:07.060483Z"
    },
    "papermill": {
     "duration": 0.030771,
     "end_time": "2023-01-25T08:20:45.991168",
     "exception": false,
     "start_time": "2023-01-25T08:20:45.960397",
     "status": "completed"
    },
    "tags": []
   },
   "outputs": [],
   "source": [
    "','.join([str(i) for i in dt.index])"
   ]
  },
  {
   "cell_type": "code",
   "execution_count": null,
   "metadata": {
    "execution": {
     "iopub.execute_input": "2023-02-11T07:39:07.076345Z",
     "iopub.status.busy": "2023-02-11T07:39:07.075808Z",
     "iopub.status.idle": "2023-02-11T07:39:07.087142Z",
     "shell.execute_reply": "2023-02-11T07:39:07.085745Z",
     "shell.execute_reply.started": "2023-02-11T07:39:07.076297Z"
    },
    "papermill": {
     "duration": 1.752469,
     "end_time": "2023-01-25T08:20:47.759395",
     "exception": false,
     "start_time": "2023-01-25T08:20:46.006926",
     "status": "completed"
    },
    "tags": []
   },
   "outputs": [],
   "source": [
    "for d in dt.index[:10]:\n",
    "    raw.loc[raw.cfips==d].plot(x='dcount', y=['microbusiness_density', 'ypred'], title=str(d))"
   ]
  },
  {
   "cell_type": "code",
   "execution_count": null,
   "metadata": {
    "execution": {
     "iopub.execute_input": "2023-02-11T07:39:07.09233Z",
     "iopub.status.busy": "2023-02-11T07:39:07.091749Z",
     "iopub.status.idle": "2023-02-11T07:39:07.134428Z",
     "shell.execute_reply": "2023-02-11T07:39:07.133225Z",
     "shell.execute_reply.started": "2023-02-11T07:39:07.092276Z"
    },
    "papermill": {
     "duration": 0.054061,
     "end_time": "2023-01-25T08:20:47.878706",
     "exception": false,
     "start_time": "2023-01-25T08:20:47.824645",
     "status": "completed"
    },
    "tags": []
   },
   "outputs": [],
   "source": [
    "raw.iloc[-40:, :16]"
   ]
  },
  {
   "cell_type": "code",
   "execution_count": null,
   "metadata": {
    "execution": {
     "iopub.execute_input": "2023-02-11T07:39:07.136333Z",
     "iopub.status.busy": "2023-02-11T07:39:07.135986Z",
     "iopub.status.idle": "2023-02-11T07:53:20.534724Z",
     "shell.execute_reply": "2023-02-11T07:53:20.533091Z",
     "shell.execute_reply.started": "2023-02-11T07:39:07.136302Z"
    },
    "papermill": {
     "duration": 116.918605,
     "end_time": "2023-01-25T08:22:44.892854",
     "exception": false,
     "start_time": "2023-01-25T08:20:47.974249",
     "status": "completed"
    },
    "tags": []
   },
   "outputs": [],
   "source": [
    "TS = 38\n",
    "print(TS)\n",
    "\n",
    "model0 = get_model()\n",
    "model1 = get_model()\n",
    "\n",
    "train_indices = (raw.istest==0) & (raw.dcount  < TS) & (raw.dcount >= 1) & (raw.lastactive>ACT_THR)  & (raw.lasttarget>ABS_THR) \n",
    "valid_indices = (raw.dcount == TS)\n",
    "model0.fit(\n",
    "    raw.loc[train_indices, features],\n",
    "    raw.loc[train_indices, 'target'].clip(-0.0044, 0.0046),\n",
    ")\n",
    "model1.fit(\n",
    "    raw.loc[train_indices, features],\n",
    "    raw.loc[train_indices, 'target'].clip(-0.0044, 0.0046),\n",
    ")\n",
    "\n",
    "ypred = (model0.predict(raw.loc[valid_indices, features]) + model1.predict(raw.loc[valid_indices, features]))/2\n",
    "raw.loc[valid_indices, 'k'] = ypred + 1.\n",
    "raw.loc[valid_indices,'k'] = raw.loc[valid_indices,'k'] * raw.loc[valid_indices,'microbusiness_density']\n",
    "\n",
    "# Validate\n",
    "lastval = raw.loc[raw.dcount==TS, ['cfips', 'microbusiness_density']].set_index('cfips').to_dict()['microbusiness_density']\n",
    "dt = raw.loc[raw.dcount==TS, ['cfips', 'k']].set_index('cfips').to_dict()['k']"
   ]
  },
  {
   "cell_type": "code",
   "execution_count": null,
   "metadata": {
    "execution": {
     "iopub.execute_input": "2023-02-11T07:53:20.536832Z",
     "iopub.status.busy": "2023-02-11T07:53:20.536458Z",
     "iopub.status.idle": "2023-02-11T07:53:20.573476Z",
     "shell.execute_reply": "2023-02-11T07:53:20.571909Z",
     "shell.execute_reply.started": "2023-02-11T07:53:20.5368Z"
    },
    "papermill": {
     "duration": 0.047538,
     "end_time": "2023-01-25T08:22:44.960558",
     "exception": false,
     "start_time": "2023-01-25T08:22:44.91302",
     "status": "completed"
    },
    "tags": []
   },
   "outputs": [],
   "source": [
    "df = raw.loc[raw.dcount==(TS+1), ['cfips', 'microbusiness_density', 'state', 'lastactive', 'mbd_lag_1']].reset_index(drop=True)\n",
    "df['pred'] = df['cfips'].map(dt)\n",
    "df['lastval'] = df['cfips'].map(lastval)\n",
    "\n",
    "df.loc[df['lastactive']<=ACT_THR, 'pred'] = df.loc[df['lastactive']<=ACT_THR, 'lastval']\n",
    "\n",
    "# kp=0.8\n",
    "# df.loc[df['lastactive']<=160, 'pred'] = kp*df.loc[df['lastactive']<=160, 'pred'] + (1-kp)*df.loc[df['lastactive']<=160, 'lastval']\n",
    "\n",
    "df.loc[df['lastval']<=ABS_THR, 'pred'] = df.loc[df['lastval']<=ABS_THR, 'lastval']\n",
    "df.loc[df['state'].isin(blacklist), 'pred'] = df.loc[df['state'].isin(blacklist), 'lastval']\n",
    "df.loc[df['cfips'].isin(blacklistcfips), 'pred'] = df.loc[df['cfips'].isin(blacklistcfips), 'lastval']\n",
    "raw.loc[raw.dcount==(TS+1), 'ypred'] = df['pred'].values\n",
    "raw.loc[raw.dcount==(TS+1), 'ypred_last'] = df['lastval'].values"
   ]
  },
  {
   "cell_type": "code",
   "execution_count": null,
   "metadata": {
    "execution": {
     "iopub.execute_input": "2023-02-11T07:53:20.576402Z",
     "iopub.status.busy": "2023-02-11T07:53:20.576021Z",
     "iopub.status.idle": "2023-02-11T07:53:20.599491Z",
     "shell.execute_reply": "2023-02-11T07:53:20.597401Z",
     "shell.execute_reply.started": "2023-02-11T07:53:20.576369Z"
    },
    "papermill": {
     "duration": 0.04185,
     "end_time": "2023-01-25T08:22:45.022264",
     "exception": false,
     "start_time": "2023-01-25T08:22:44.980414",
     "status": "completed"
    },
    "tags": []
   },
   "outputs": [],
   "source": [
    "raw[['cfips','microbusiness_density','dcount','ypred','ypred_last','k']].tail(20)"
   ]
  },
  {
   "cell_type": "code",
   "execution_count": null,
   "metadata": {
    "execution": {
     "iopub.execute_input": "2023-02-11T07:53:20.603283Z",
     "iopub.status.busy": "2023-02-11T07:53:20.602017Z",
     "iopub.status.idle": "2023-02-11T07:53:20.643809Z",
     "shell.execute_reply": "2023-02-11T07:53:20.641997Z",
     "shell.execute_reply.started": "2023-02-11T07:53:20.603235Z"
    },
    "papermill": {
     "duration": 0.053161,
     "end_time": "2023-01-25T08:22:45.095135",
     "exception": false,
     "start_time": "2023-01-25T08:22:45.041974",
     "status": "completed"
    },
    "scrolled": true,
    "tags": []
   },
   "outputs": [],
   "source": [
    "raw.loc[raw['cfips']==28055, 'microbusiness_density'] = 0\n",
    "raw.loc[raw['cfips']==48269, 'microbusiness_density'] = 1.762115\n",
    "\n",
    "dt = raw.loc[raw.dcount==39, ['cfips', 'ypred']].set_index('cfips').to_dict()['ypred']\n",
    "test = raw.loc[raw.istest==1, ['row_id', 'cfips','microbusiness_density']].copy()\n",
    "test['microbusiness_density'] = test['cfips'].map(dt)\n",
    "\n",
    "test = test[['row_id','microbusiness_density']]"
   ]
  },
  {
   "cell_type": "code",
   "execution_count": null,
   "metadata": {
    "execution": {
     "iopub.execute_input": "2023-02-11T07:53:20.646773Z",
     "iopub.status.busy": "2023-02-11T07:53:20.645848Z",
     "iopub.status.idle": "2023-02-11T07:53:20.711695Z",
     "shell.execute_reply": "2023-02-11T07:53:20.710478Z",
     "shell.execute_reply.started": "2023-02-11T07:53:20.646698Z"
    },
    "papermill": {
     "duration": 0.071499,
     "end_time": "2023-01-25T08:22:45.186809",
     "exception": false,
     "start_time": "2023-01-25T08:22:45.11531",
     "status": "completed"
    },
    "tags": []
   },
   "outputs": [],
   "source": [
    "test.tail(50)\n",
    "test.to_csv('test.csv', index=False)"
   ]
  },
  {
   "cell_type": "code",
   "execution_count": null,
   "metadata": {
    "execution": {
     "iopub.execute_input": "2023-02-11T07:53:20.713717Z",
     "iopub.status.busy": "2023-02-11T07:53:20.713259Z",
     "iopub.status.idle": "2023-02-11T07:53:20.72422Z",
     "shell.execute_reply": "2023-02-11T07:53:20.722796Z",
     "shell.execute_reply.started": "2023-02-11T07:53:20.71368Z"
    },
    "papermill": {
     "duration": 4.870097,
     "end_time": "2023-01-25T08:22:50.16736",
     "exception": false,
     "start_time": "2023-01-25T08:22:45.297263",
     "status": "completed"
    },
    "tags": []
   },
   "outputs": [],
   "source": [
    "# sub = pd.read_csv(\"/kaggle/input/k/batprem/better-xgb-baseline/submission.csv\")\n",
    "# for i, row in sub.iterrows():\n",
    "#     test.iat[i,1] = (\n",
    "#         0.85*test.iat[i,1] +\n",
    "#         0.15*row[\"microbusiness_density\"]\n",
    "#     )\n",
    "print(test)\n"
   ]
  },
  {
   "cell_type": "code",
   "execution_count": null,
   "metadata": {
    "execution": {
     "iopub.execute_input": "2023-02-11T07:55:48.743584Z",
     "iopub.status.busy": "2023-02-11T07:55:48.743105Z",
     "iopub.status.idle": "2023-02-11T07:55:48.819314Z",
     "shell.execute_reply": "2023-02-11T07:55:48.817827Z",
     "shell.execute_reply.started": "2023-02-11T07:55:48.743546Z"
    },
    "papermill": {
     "duration": 0.080067,
     "end_time": "2023-01-25T08:22:50.267915",
     "exception": false,
     "start_time": "2023-01-25T08:22:50.187848",
     "status": "completed"
    },
    "tags": []
   },
   "outputs": [],
   "source": [
    "test.to_csv('submission.csv', index=False)\n",
    "test.head()"
   ]
  }
 ],
 "metadata": {
  "kernelspec": {
   "display_name": "Python 3 (ipykernel)",
   "language": "python",
   "name": "python3"
  },
  "language_info": {
   "codemirror_mode": {
    "name": "ipython",
    "version": 3
   },
   "file_extension": ".py",
   "mimetype": "text/x-python",
   "name": "python",
   "nbconvert_exporter": "python",
   "pygments_lexer": "ipython3",
   "version": "3.9.12"
  }
 },
 "nbformat": 4,
 "nbformat_minor": 4
}

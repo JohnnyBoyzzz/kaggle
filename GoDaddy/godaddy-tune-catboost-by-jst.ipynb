{
 "cells": [
  {
   "cell_type": "markdown",
   "id": "4bd5064f",
   "metadata": {
    "papermill": {
     "duration": 0.009965,
     "end_time": "2023-03-07T14:30:00.324732",
     "exception": false,
     "start_time": "2023-03-07T14:30:00.314767",
     "status": "completed"
    },
    "tags": []
   },
   "source": [
    "### **Thanks to great works from Prem, Jasonczh, Chris, Jasonczh, Giba, Nin7a1, judith007,samu2505, tetsutani.**"
   ]
  },
  {
   "cell_type": "markdown",
   "id": "1d8911b7",
   "metadata": {
    "papermill": {
     "duration": 0.007735,
     "end_time": "2023-03-07T14:30:00.340859",
     "exception": false,
     "start_time": "2023-03-07T14:30:00.333124",
     "status": "completed"
    },
    "tags": []
   },
   "source": [
    "## **This notebook mainly tuned the models and explain the reasons of doing these things. Hope my words can help you in this competition!**"
   ]
  },
  {
   "cell_type": "markdown",
   "id": "e526a23e",
   "metadata": {
    "papermill": {
     "duration": 0.007687,
     "end_time": "2023-03-07T14:30:00.356542",
     "exception": false,
     "start_time": "2023-03-07T14:30:00.348855",
     "status": "completed"
    },
    "tags": []
   },
   "source": [
    "### **Thanks to great works from Prem, Jasonczh, Chris, Giba, Nin7a1, judith007,samu2505, tetsutani, DANGNGUYEN1997, .**\n",
    "\n",
    "### **This notebook mainly tuned the models and explain the reasons of doing these things. Hope my words can help you in this competition!**\n",
    "\n",
    "### This version is for content. The best score can be found [here](https://www.kaggle.com/code/batprem/godaddy-tune-stacking?scriptVersionId=121080529)\n",
    "\n",
    "#### <p style=\"font-family:JetBrains Mono; font-weight:normal; letter-spacing: 2px; color:#9E3F00; font-size:140%; text-align:left;padding: 0px; border-bottom: 3px solid #9E3F00\">CHANGE LOG</p>\n",
    "* ** Added tuning from https://www.kaggle.com/code/vadimkamaev/godaddy-stacking-xgb-lgbm-cat**\n",
    "* ** Added stacking from https://www.kaggle.com/code/samu2505/godaddy-stacking-xgb-lgbm-cat**\n",
    "* ** Added ensemble with https://www.kaggle.com/code/dangnguyen97/lb-1-3803-simple-baseline-with-eda-and-smape?scriptVersionId=120991448**\n",
    "* **Added data from https://www2.census.gov/programs-surveys/popest/datasets/2020-2021/counties/totals/ please see [Feature engineeering](#Feature-Engineering)**\n",
    "> It didn't work before the data was adjusted. It now somehow works. - Prem\n",
    "\n",
    "#### Mixing technique\n",
    "This technique is a mixing technique of\n",
    "\n",
    "* @judith007\n",
    "    * https://www.kaggle.com/code/judith007/location-feature-single-model-improvement\n",
    "    * https://www.kaggle.com/code/judith007/tuning-methods-included-better-score-lb1-3946\n",
    "* @samu2505 https://www.kaggle.com/code/samu2505/adding-location-features\n",
    "* @tetsutani https://www.kaggle.com/code/tetsutani/catboost-only-tune-score-lb1-3845\n",
    "<br>Also thank to greate works from Jasonczh, Chris, Jasonczh, Giba, Nin7a1"
   ]
  },
  {
   "cell_type": "code",
   "execution_count": 1,
   "id": "21b0232d",
   "metadata": {
    "_cell_guid": "b1076dfc-b9ad-4769-8c92-a6c4dae69d19",
    "_uuid": "8f2839f25d086af736a60e9eeb907d3b93b6e0e5",
    "execution": {
     "iopub.execute_input": "2023-03-07T14:30:00.374854Z",
     "iopub.status.busy": "2023-03-07T14:30:00.374075Z",
     "iopub.status.idle": "2023-03-07T14:30:00.500941Z",
     "shell.execute_reply": "2023-03-07T14:30:00.499804Z"
    },
    "papermill": {
     "duration": 0.139571,
     "end_time": "2023-03-07T14:30:00.504012",
     "exception": false,
     "start_time": "2023-03-07T14:30:00.364441",
     "status": "completed"
    },
    "tags": []
   },
   "outputs": [],
   "source": [
    "import gc\n",
    "import numpy as np\n",
    "import pandas as pd\n",
    "import os\n",
    "from tqdm.notebook import tqdm\n",
    "BASE = '../input/godaddy-microbusiness-density-forecasting/'\n",
    "\n",
    "def smape(y_true, y_pred):\n",
    "    smap = np.zeros(len(y_true))\n",
    "    \n",
    "    num = np.abs(y_true - y_pred)\n",
    "    dem = ((np.abs(y_true) + np.abs(y_pred)) / 2)\n",
    "    \n",
    "    pos_ind = (y_true!=0)|(y_pred!=0)\n",
    "    smap[pos_ind] = num[pos_ind] / dem[pos_ind]\n",
    "    \n",
    "    return 100 * np.mean(smap)\n",
    "\n",
    "def vsmape(y_true, y_pred):\n",
    "    smap = np.zeros(len(y_true))\n",
    "    \n",
    "    num = np.abs(y_true - y_pred)\n",
    "    dem = ((np.abs(y_true) + np.abs(y_pred)) / 2)\n",
    "    \n",
    "    pos_ind = (y_true!=0)|(y_pred!=0)\n",
    "    smap[pos_ind] = num[pos_ind] / dem[pos_ind]\n",
    "    \n",
    "    return 100 * smap"
   ]
  },
  {
   "cell_type": "code",
   "execution_count": 2,
   "id": "c9870e9f",
   "metadata": {
    "execution": {
     "iopub.execute_input": "2023-03-07T14:30:00.523749Z",
     "iopub.status.busy": "2023-03-07T14:30:00.523307Z",
     "iopub.status.idle": "2023-03-07T14:30:01.571488Z",
     "shell.execute_reply": "2023-03-07T14:30:01.570488Z"
    },
    "papermill": {
     "duration": 1.062001,
     "end_time": "2023-03-07T14:30:01.574122",
     "exception": false,
     "start_time": "2023-03-07T14:30:00.512121",
     "status": "completed"
    },
    "tags": []
   },
   "outputs": [
    {
     "name": "stdout",
     "output_type": "stream",
     "text": [
      "(128535, 8) (18810, 3) (25080, 2)\n"
     ]
    }
   ],
   "source": [
    "census = pd.read_csv(BASE + 'census_starter.csv')\n",
    "train = pd.read_csv(BASE + 'train.csv')\n",
    "reaveal_test = pd.read_csv(BASE + 'revealed_test.csv')\n",
    "train = pd.concat([train, reaveal_test]).sort_values(by=['cfips','first_day_of_month']).reset_index()\n",
    "test = pd.read_csv(BASE + 'test.csv')\n",
    "drop_index = (test.first_day_of_month == '2022-11-01') | (test.first_day_of_month == '2022-12-01')\n",
    "test = test.loc[~drop_index,:]\n",
    "\n",
    "sub = pd.read_csv(BASE + 'sample_submission.csv')\n",
    "coords = pd.read_csv(\"/kaggle/input/usa-counties-coordinates/cfips_location.csv\")\n",
    "print(train.shape, test.shape, sub.shape)\n",
    "\n",
    "train['istest'] = 0\n",
    "test['istest'] = 1\n",
    "raw = pd.concat((train, test)).sort_values(['cfips','row_id']).reset_index(drop=True)\n",
    "raw = raw.merge(coords.drop(\"name\", axis=1), on=\"cfips\")\n",
    "\n",
    "raw['state_i1'] = raw['state'].astype('category')\n",
    "raw['county_i1'] = raw['county'].astype('category')\n",
    "raw['first_day_of_month'] = pd.to_datetime(raw[\"first_day_of_month\"])\n",
    "raw['county'] = raw.groupby('cfips')['county'].ffill()\n",
    "raw['state'] = raw.groupby('cfips')['state'].ffill()\n",
    "raw[\"dcount\"] = raw.groupby(['cfips'])['row_id'].cumcount()\n",
    "raw['county_i'] = (raw['county'] + raw['state']).factorize()[0]\n",
    "raw['state_i'] = raw['state'].factorize()[0]\n",
    "raw['scale'] = (raw['first_day_of_month'] - raw['first_day_of_month'].min()).dt.days\n",
    "raw['scale'] = raw['scale'].factorize()[0]\n",
    "os.environ[\"CUDA_VISIBLE_DEVICES\"]=\"0\"\n"
   ]
  },
  {
   "cell_type": "markdown",
   "id": "7b5bcd18",
   "metadata": {
    "papermill": {
     "duration": 0.008248,
     "end_time": "2023-03-07T14:30:01.591338",
     "exception": false,
     "start_time": "2023-03-07T14:30:01.583090",
     "status": "completed"
    },
    "tags": []
   },
   "source": [
    "# There are some anomalies, specially at timestep 18"
   ]
  },
  {
   "cell_type": "code",
   "execution_count": 3,
   "id": "05688e29",
   "metadata": {
    "execution": {
     "iopub.execute_input": "2023-03-07T14:30:01.610187Z",
     "iopub.status.busy": "2023-03-07T14:30:01.609455Z",
     "iopub.status.idle": "2023-03-07T14:30:08.815060Z",
     "shell.execute_reply": "2023-03-07T14:30:08.813912Z"
    },
    "papermill": {
     "duration": 7.218008,
     "end_time": "2023-03-07T14:30:08.817375",
     "exception": false,
     "start_time": "2023-03-07T14:30:01.599367",
     "status": "completed"
    },
    "scrolled": true,
    "tags": []
   },
   "outputs": [
    {
     "data": {
      "application/vnd.jupyter.widget-view+json": {
       "model_id": "690710a870b54bdd95d0263b48f141c5",
       "version_major": 2,
       "version_minor": 0
      },
      "text/plain": [
       "  0%|          | 0/3135 [00:00<?, ?it/s]"
      ]
     },
     "metadata": {},
     "output_type": "display_data"
    }
   ],
   "source": [
    "for o in tqdm(raw.cfips.unique()): \n",
    "    indices = (raw['cfips'] == o) \n",
    "    tmp = raw.loc[indices].copy().reset_index(drop=True)\n",
    "    var = tmp.microbusiness_density.values.copy()\n",
    "    for i in range(37, 2, -1):\n",
    "        thr = 0.10 * np.mean(var[:i]) \n",
    "        difa = var[i] - var[i - 1] \n",
    "        if (difa >= thr) or (difa <= -thr):              \n",
    "            if difa > 0:\n",
    "                var[:i] += difa - 0.003 \n",
    "            else:\n",
    "                var[:i] += difa + 0.003  \n",
    "    var[0] = var[1] * 0.99\n",
    "    raw.loc[indices, 'microbusiness_density'] = var\n"
   ]
  },
  {
   "cell_type": "code",
   "execution_count": 4,
   "id": "65e89d1a",
   "metadata": {
    "execution": {
     "iopub.execute_input": "2023-03-07T14:30:08.836023Z",
     "iopub.status.busy": "2023-03-07T14:30:08.835649Z",
     "iopub.status.idle": "2023-03-07T14:30:08.862265Z",
     "shell.execute_reply": "2023-03-07T14:30:08.861095Z"
    },
    "papermill": {
     "duration": 0.039118,
     "end_time": "2023-03-07T14:30:08.865014",
     "exception": false,
     "start_time": "2023-03-07T14:30:08.825896",
     "status": "completed"
    },
    "tags": []
   },
   "outputs": [],
   "source": [
    "lag = 1\n",
    "raw[f'mbd_lag_{lag}'] = raw.groupby('cfips')['microbusiness_density'].shift(lag).bfill()\n",
    "raw['dif'] = (raw['microbusiness_density'] / raw[f'mbd_lag_{lag}']).fillna(1).clip(0, None) - 1\n",
    "raw.loc[(raw[f'mbd_lag_{lag}']==0), 'dif'] = 0\n",
    "raw.loc[(raw[f'microbusiness_density']>0) & (raw[f'mbd_lag_{lag}']==0), 'dif'] = 1\n",
    "raw['dif'] = raw['dif'].abs()\n",
    "# raw.groupby('dcount')['dif'].sum().plot()"
   ]
  },
  {
   "cell_type": "markdown",
   "id": "b27b4fe8",
   "metadata": {
    "papermill": {
     "duration": 0.007966,
     "end_time": "2023-03-07T14:30:08.881367",
     "exception": false,
     "start_time": "2023-03-07T14:30:08.873401",
     "status": "completed"
    },
    "tags": []
   },
   "source": [
    "# SMAPE is a relative metric so target must be converted."
   ]
  },
  {
   "cell_type": "code",
   "execution_count": 5,
   "id": "9b7e45fb",
   "metadata": {
    "execution": {
     "iopub.execute_input": "2023-03-07T14:30:08.899559Z",
     "iopub.status.busy": "2023-03-07T14:30:08.899127Z",
     "iopub.status.idle": "2023-03-07T14:30:08.917338Z",
     "shell.execute_reply": "2023-03-07T14:30:08.916297Z"
    },
    "papermill": {
     "duration": 0.030179,
     "end_time": "2023-03-07T14:30:08.919880",
     "exception": false,
     "start_time": "2023-03-07T14:30:08.889701",
     "status": "completed"
    },
    "scrolled": true,
    "tags": []
   },
   "outputs": [],
   "source": [
    "raw['target'] = raw.groupby('cfips')['microbusiness_density'].shift(-1)\n",
    "raw['target'] = raw['target']/raw['microbusiness_density'] - 1\n",
    "\n",
    "\n",
    "raw.loc[raw['cfips']==28055, 'target'] = 0.0\n",
    "raw.loc[raw['cfips']==48269, 'target'] = 0.0"
   ]
  },
  {
   "cell_type": "code",
   "execution_count": 6,
   "id": "d6cec44c",
   "metadata": {
    "execution": {
     "iopub.execute_input": "2023-03-07T14:30:08.938414Z",
     "iopub.status.busy": "2023-03-07T14:30:08.938048Z",
     "iopub.status.idle": "2023-03-07T14:30:08.949093Z",
     "shell.execute_reply": "2023-03-07T14:30:08.948264Z"
    },
    "papermill": {
     "duration": 0.023096,
     "end_time": "2023-03-07T14:30:08.951350",
     "exception": false,
     "start_time": "2023-03-07T14:30:08.928254",
     "status": "completed"
    },
    "tags": []
   },
   "outputs": [],
   "source": [
    "raw['lastactive'] = raw.groupby('cfips')['active'].transform('last')\n",
    "\n",
    "# dt = raw.loc[raw.dcount==40].groupby('cfips')['microbusiness_density'].agg('last')\n",
    "# raw['lastactive'].clip(0, 8000).hist(bins=30)"
   ]
  },
  {
   "cell_type": "markdown",
   "id": "dbb5773e",
   "metadata": {
    "papermill": {
     "duration": 0.007939,
     "end_time": "2023-03-07T14:30:08.967692",
     "exception": false,
     "start_time": "2023-03-07T14:30:08.959753",
     "status": "completed"
    },
    "tags": []
   },
   "source": [
    "# Feature Engineering\n",
    "> Try tuning this part"
   ]
  },
  {
   "cell_type": "code",
   "execution_count": 7,
   "id": "c18905f8",
   "metadata": {
    "execution": {
     "iopub.execute_input": "2023-03-07T14:30:08.985808Z",
     "iopub.status.busy": "2023-03-07T14:30:08.985408Z",
     "iopub.status.idle": "2023-03-07T14:30:08.996558Z",
     "shell.execute_reply": "2023-03-07T14:30:08.995732Z"
    },
    "papermill": {
     "duration": 0.022857,
     "end_time": "2023-03-07T14:30:08.998714",
     "exception": false,
     "start_time": "2023-03-07T14:30:08.975857",
     "status": "completed"
    },
    "tags": []
   },
   "outputs": [],
   "source": [
    "def build_features(raw, target='microbusiness_density', target_act='active_tmp', lags = 6):\n",
    "    feats = []   \n",
    "\n",
    "    for lag in range(1, lags):\n",
    "        raw[f'mbd_lag_{lag}'] = raw.groupby('cfips')[target].shift(lag)\n",
    "        raw[f'act_lag_{lag}'] = raw.groupby('cfips')[target_act].diff(lag)\n",
    "        feats.append(f'mbd_lag_{lag}')\n",
    "        feats.append(f'act_lag_{lag}')\n",
    "        \n",
    "    lag = 1\n",
    "    for window in [2, 4, 6, 8, 10]:\n",
    "        raw[f'mbd_rollmea{window}_{lag}'] = raw.groupby('cfips')[f'mbd_lag_{lag}'].transform(lambda s: s.rolling(window, min_periods=1).sum())        \n",
    "        feats.append(f'mbd_rollmea{window}_{lag}')\n",
    "    \n",
    "    census_columns = list(census.columns)\n",
    "    census_columns.remove( \"cfips\")\n",
    "    \n",
    "    raw = raw.merge(census, on=\"cfips\", how=\"left\")\n",
    "    feats += census_columns\n",
    "    \n",
    "    co_est = pd.read_csv(\"/kaggle/input/us-indicator/co-est2021-alldata.csv\", encoding='latin-1')\n",
    "    co_est[\"cfips\"] = co_est.STATE*1000 + co_est.COUNTY\n",
    "    co_columns = [\n",
    "        'SUMLEV',\n",
    "        'DIVISION',\n",
    "        'ESTIMATESBASE2020',\n",
    "        'POPESTIMATE2020',\n",
    "        'POPESTIMATE2021',\n",
    "        'NPOPCHG2020',\n",
    "        'NPOPCHG2021',\n",
    "        'BIRTHS2020',\n",
    "        'BIRTHS2021',\n",
    "        'DEATHS2020',\n",
    "        'DEATHS2021',\n",
    "        'NATURALCHG2020',\n",
    "        'NATURALCHG2021',\n",
    "        'INTERNATIONALMIG2020',\n",
    "        'INTERNATIONALMIG2021',\n",
    "        'DOMESTICMIG2020',\n",
    "        'DOMESTICMIG2021',\n",
    "        'NETMIG2020',\n",
    "        'NETMIG2021',\n",
    "        'RESIDUAL2020',\n",
    "        'RESIDUAL2021',\n",
    "        'GQESTIMATESBASE2020',\n",
    "        'GQESTIMATES2020',\n",
    "        'GQESTIMATES2021',\n",
    "        'RBIRTH2021',\n",
    "        'RDEATH2021',\n",
    "        'RNATURALCHG2021',\n",
    "        'RINTERNATIONALMIG2021',\n",
    "        'RDOMESTICMIG2021',\n",
    "        'RNETMIG2021'\n",
    "    ]\n",
    "    raw = raw.merge(co_est, on=\"cfips\", how=\"left\")\n",
    "    feats +=  co_columns\n",
    "    return raw, feats"
   ]
  },
  {
   "cell_type": "code",
   "execution_count": 8,
   "id": "c477e109",
   "metadata": {
    "execution": {
     "iopub.execute_input": "2023-03-07T14:30:09.016928Z",
     "iopub.status.busy": "2023-03-07T14:30:09.016529Z",
     "iopub.status.idle": "2023-03-07T14:30:18.546342Z",
     "shell.execute_reply": "2023-03-07T14:30:18.545087Z"
    },
    "papermill": {
     "duration": 9.542312,
     "end_time": "2023-03-07T14:30:18.549419",
     "exception": false,
     "start_time": "2023-03-07T14:30:09.007107",
     "status": "completed"
    },
    "scrolled": true,
    "tags": []
   },
   "outputs": [],
   "source": [
    "# Build Features based in lag of target\n",
    "raw, feats = build_features(raw, 'target', 'active', lags = 9)\n",
    "features = ['state_i']\n",
    "features += feats\n",
    "features += ['lng','lat','scale']\n",
    "# print(features)\n",
    "# raw.loc[raw.dcount==40, features].head(10)"
   ]
  },
  {
   "cell_type": "markdown",
   "id": "1a4f085a",
   "metadata": {
    "papermill": {
     "duration": 0.00888,
     "end_time": "2023-03-07T14:30:18.567072",
     "exception": false,
     "start_time": "2023-03-07T14:30:18.558192",
     "status": "completed"
    },
    "tags": []
   },
   "source": [
    "Latitude and Longitude feature engineering from samu2505."
   ]
  },
  {
   "cell_type": "code",
   "execution_count": 9,
   "id": "5da3c216",
   "metadata": {
    "execution": {
     "iopub.execute_input": "2023-03-07T14:30:18.587161Z",
     "iopub.status.busy": "2023-03-07T14:30:18.585951Z",
     "iopub.status.idle": "2023-03-07T14:30:18.759792Z",
     "shell.execute_reply": "2023-03-07T14:30:18.758556Z"
    },
    "papermill": {
     "duration": 0.186741,
     "end_time": "2023-03-07T14:30:18.762678",
     "exception": false,
     "start_time": "2023-03-07T14:30:18.575937",
     "status": "completed"
    },
    "tags": []
   },
   "outputs": [],
   "source": [
    "coordinates = raw[['lng', 'lat']].values\n",
    "\n",
    "# Encoding tricks\n",
    "emb_size = 20\n",
    "precision = 1e6\n",
    "\n",
    "latlon = np.expand_dims(coordinates, axis=-1)\n",
    "\n",
    "m = np.exp(np.log(precision)/emb_size)\n",
    "angle_freq = m ** np.arange(emb_size)\n",
    "angle_freq = angle_freq.reshape(1,1, emb_size)\n",
    "latlon = latlon * angle_freq\n",
    "latlon[..., 0::2] = np.cos(latlon[..., 0::2])"
   ]
  },
  {
   "cell_type": "code",
   "execution_count": 10,
   "id": "845b0198",
   "metadata": {
    "execution": {
     "iopub.execute_input": "2023-03-07T14:30:18.782248Z",
     "iopub.status.busy": "2023-03-07T14:30:18.781432Z",
     "iopub.status.idle": "2023-03-07T14:30:18.801066Z",
     "shell.execute_reply": "2023-03-07T14:30:18.799929Z"
    },
    "papermill": {
     "duration": 0.032434,
     "end_time": "2023-03-07T14:30:18.803719",
     "exception": false,
     "start_time": "2023-03-07T14:30:18.771285",
     "status": "completed"
    },
    "tags": []
   },
   "outputs": [],
   "source": [
    "def rot(df):\n",
    "    for angle in [15, 30, 45]:\n",
    "        df[f'rot_{angle}_x'] = (np.cos(np.radians(angle)) * df['lat']) + \\\n",
    "                                (np.sin(np.radians(angle)) * df['lng'])\n",
    "        \n",
    "        df[f'rot_{angle}_y'] = (np.cos(np.radians(angle)) * df['lat']) - \\\n",
    "                                (np.sin(np.radians(angle)) * df['lng'])\n",
    "        \n",
    "    return df\n",
    "\n",
    "raw = rot(raw)"
   ]
  },
  {
   "cell_type": "code",
   "execution_count": 11,
   "id": "9169b6ce",
   "metadata": {
    "execution": {
     "iopub.execute_input": "2023-03-07T14:30:18.822488Z",
     "iopub.status.busy": "2023-03-07T14:30:18.822092Z",
     "iopub.status.idle": "2023-03-07T14:30:18.827012Z",
     "shell.execute_reply": "2023-03-07T14:30:18.825860Z"
    },
    "papermill": {
     "duration": 0.017526,
     "end_time": "2023-03-07T14:30:18.829721",
     "exception": false,
     "start_time": "2023-03-07T14:30:18.812195",
     "status": "completed"
    },
    "tags": []
   },
   "outputs": [],
   "source": [
    "features += ['rot_15_x', 'rot_15_y', 'rot_30_x', 'rot_30_y', 'rot_45_x', 'rot_45_y']"
   ]
  },
  {
   "cell_type": "code",
   "execution_count": 12,
   "id": "abbee045",
   "metadata": {
    "execution": {
     "iopub.execute_input": "2023-03-07T14:30:18.848935Z",
     "iopub.status.busy": "2023-03-07T14:30:18.848512Z",
     "iopub.status.idle": "2023-03-07T14:30:18.861524Z",
     "shell.execute_reply": "2023-03-07T14:30:18.860443Z"
    },
    "papermill": {
     "duration": 0.025301,
     "end_time": "2023-03-07T14:30:18.863753",
     "exception": false,
     "start_time": "2023-03-07T14:30:18.838452",
     "status": "completed"
    },
    "tags": []
   },
   "outputs": [],
   "source": [
    "def get_model():\n",
    "    from sklearn.ensemble import VotingRegressor\n",
    "    import lightgbm as lgb\n",
    "    import xgboost as xgb\n",
    "    import catboost as cat\n",
    "    from sklearn.pipeline import Pipeline\n",
    "    from sklearn.neighbors import KNeighborsRegressor\n",
    "    from sklearn.impute import KNNImputer    \n",
    "\n",
    "# we should decrease the num_iterations of catboost\n",
    "    cat_model = cat.CatBoostRegressor(\n",
    "        iterations=2000,\n",
    "        loss_function=\"MAPE\",\n",
    "        verbose=0,\n",
    "        grow_policy='SymmetricTree',\n",
    "        learning_rate=0.035,\n",
    "        colsample_bylevel=0.8,\n",
    "        max_depth=5,\n",
    "        l2_leaf_reg=0.2,\n",
    "        subsample=0.70,\n",
    "        max_bin=4096,\n",
    "    )\n",
    "\n",
    "    return cat_model\n",
    "\n",
    "\n",
    "def base_models():\n",
    "    from sklearn.ensemble import VotingRegressor\n",
    "    import lightgbm as lgb\n",
    "    import xgboost as xgb\n",
    "    import catboost as cat\n",
    "    from sklearn.pipeline import Pipeline\n",
    "    from sklearn.neighbors import KNeighborsRegressor\n",
    "    from sklearn.impute import KNNImputer    \n",
    "    \n",
    "    # LGBM model\n",
    "    params = {\n",
    "    'n_iter': 300,\n",
    "    'boosting_type': 'dart',\n",
    "    'verbosity': -1,\n",
    "    'objective': 'l1',\n",
    "    'random_state': 42,\n",
    "    'colsample_bytree': 0.8841279649367693,\n",
    "    'colsample_bynode': 0.10142964450634374,\n",
    "    'max_depth': 8,\n",
    "    'learning_rate': 0.003647749926797374,\n",
    "    'lambda_l2': 0.5,\n",
    "    'num_leaves': 61,\n",
    "    \"seed\": 42,\n",
    "    'min_data_in_leaf': 213}\n",
    "\n",
    "    lgb_model = lgb.LGBMRegressor(**params)\n",
    "    \n",
    "    xgb_model = xgb.XGBRegressor(\n",
    "    objective='reg:pseudohubererror',\n",
    "    tree_method=\"hist\",\n",
    "    n_estimators=795,\n",
    "    learning_rate=0.0075,\n",
    "    max_leaves = 17,\n",
    "    subsample=0.50,\n",
    "    colsample_bytree=0.50,\n",
    "    max_bin=4096,\n",
    "    n_jobs=2)\n",
    "\n",
    "    # we should decrease the num_iterations of catboost\n",
    "    cat_model = cat.CatBoostRegressor(\n",
    "        iterations=2500,\n",
    "        loss_function=\"MAPE\",\n",
    "        verbose=0,\n",
    "        grow_policy='SymmetricTree',\n",
    "        learning_rate=0.035,\n",
    "        colsample_bylevel=0.8,\n",
    "        max_depth=5,\n",
    "        l2_leaf_reg=0.2,\n",
    "        subsample=0.70,\n",
    "        max_bin=4096,\n",
    "    )\n",
    "    \n",
    "    models = {}\n",
    "    models['xgb'] = xgb_model\n",
    "    models['lgbm'] = lgb_model\n",
    "    models['cat'] = cat_model\n",
    "\n",
    "    return models"
   ]
  },
  {
   "cell_type": "code",
   "execution_count": 13,
   "id": "05054ae3",
   "metadata": {
    "execution": {
     "iopub.execute_input": "2023-03-07T14:30:18.882921Z",
     "iopub.status.busy": "2023-03-07T14:30:18.882441Z",
     "iopub.status.idle": "2023-03-07T14:30:18.887435Z",
     "shell.execute_reply": "2023-03-07T14:30:18.886290Z"
    },
    "papermill": {
     "duration": 0.017366,
     "end_time": "2023-03-07T14:30:18.889738",
     "exception": false,
     "start_time": "2023-03-07T14:30:18.872372",
     "status": "completed"
    },
    "tags": []
   },
   "outputs": [],
   "source": [
    "ACT_THR = 150\n",
    "MONTH_1 = 39\n",
    "MONTH_last = 40"
   ]
  },
  {
   "cell_type": "code",
   "execution_count": 14,
   "id": "c3f8a974",
   "metadata": {
    "execution": {
     "iopub.execute_input": "2023-03-07T14:30:18.909414Z",
     "iopub.status.busy": "2023-03-07T14:30:18.908667Z",
     "iopub.status.idle": "2023-03-07T14:30:18.914929Z",
     "shell.execute_reply": "2023-03-07T14:30:18.913717Z"
    },
    "papermill": {
     "duration": 0.01916,
     "end_time": "2023-03-07T14:30:18.917710",
     "exception": false,
     "start_time": "2023-03-07T14:30:18.898550",
     "status": "completed"
    },
    "scrolled": true,
    "tags": []
   },
   "outputs": [],
   "source": [
    "# raw['ypred_last'] = np.nan\n",
    "# raw['ypred'] = np.nan\n",
    "# raw['k'] = 1.\n",
    "# raw['microbusiness_density'].fillna(0, inplace = True)\n",
    "\n",
    "# for TS in range(MONTH_1, MONTH_last): #40):\n",
    "#     print(f'TS: {TS}')\n",
    "   \n",
    "#     model = get_model()\n",
    "            \n",
    "#     train_indices = (raw.istest==0) & (raw.dcount  < TS) & (raw.dcount >= 1) & (raw.lastactive>ACT_THR) \n",
    "#     valid_indices = (raw.istest==0) & (raw.dcount == TS) \n",
    "#     model.fit(\n",
    "#         raw.loc[train_indices, features],\n",
    "#         raw.loc[train_indices, 'target'].clip(-0.002, 0.006),\n",
    "\n",
    "#     )\n",
    "\n",
    "#     ypred = model.predict(raw.loc[valid_indices, features])\n",
    "#     raw.loc[valid_indices, 'k'] = ypred + 1\n",
    "#     raw.loc[valid_indices,'k'] = raw.loc[valid_indices,'k'] * raw.loc[valid_indices,'microbusiness_density']\n",
    "\n",
    "#     # Validate\n",
    "#     lastval = raw.loc[raw.dcount==TS, ['cfips', 'microbusiness_density']].set_index('cfips').to_dict()['microbusiness_density']\n",
    "#     dt = raw.loc[raw.dcount==TS, ['cfips', 'k']].set_index('cfips').to_dict()['k']\n",
    "    \n",
    "#     df = raw.loc[raw.dcount==(TS+1), \n",
    "#                  ['cfips', 'microbusiness_density', 'state', 'lastactive', 'mbd_lag_1']].reset_index(drop=True)\n",
    "#     df['pred'] = df['cfips'].map(dt)\n",
    "#     df['lastval'] = df['cfips'].map(lastval)\n",
    "    \n",
    "# #     df.loc[df['lastval'].isnull(), 'lastval'] = df.loc[df['lastval'].isnull(), 'microbusiness_density']    \n",
    "    \n",
    "#     df.loc[df['lastactive']<=ACT_THR, 'pred'] = df.loc[df['lastactive']<=ACT_THR, 'lastval']\n",
    "        \n",
    "#     raw.loc[raw.dcount==(TS+1), 'ypred'] = df['pred'].values\n",
    "#     raw.loc[raw.dcount==(TS+1), 'ypred_last'] = df['lastval'].values\n",
    "    \n",
    "#     print('Last Value SMAPE:', smape(df['microbusiness_density'], df['lastval']) )\n",
    "#     print('SMAPE:', smape(df['microbusiness_density'], df['pred']))\n",
    "#     print()\n",
    "\n",
    "\n",
    "# ind = (raw.dcount > MONTH_1)&(raw.dcount <= MONTH_last)\n",
    "\n",
    "# print( 'SMAPE:', smape( raw.loc[ind, 'microbusiness_density'],  raw.loc[ind, 'ypred'] ) )\n",
    "# print( 'Last Value SMAPE:', smape( raw.loc[ind, 'microbusiness_density'],  raw.loc[ind, 'ypred_last'] ) )\n"
   ]
  },
  {
   "cell_type": "code",
   "execution_count": 15,
   "id": "139b5870",
   "metadata": {
    "execution": {
     "iopub.execute_input": "2023-03-07T14:30:18.936511Z",
     "iopub.status.busy": "2023-03-07T14:30:18.936087Z",
     "iopub.status.idle": "2023-03-07T14:30:19.077932Z",
     "shell.execute_reply": "2023-03-07T14:30:19.076833Z"
    },
    "papermill": {
     "duration": 0.153973,
     "end_time": "2023-03-07T14:30:19.080316",
     "exception": false,
     "start_time": "2023-03-07T14:30:18.926343",
     "status": "completed"
    },
    "tags": []
   },
   "outputs": [
    {
     "data": {
      "text/plain": [
       "(128535, 107)"
      ]
     },
     "execution_count": 15,
     "metadata": {},
     "output_type": "execute_result"
    }
   ],
   "source": [
    "raw[raw.istest == 0].shape"
   ]
  },
  {
   "cell_type": "code",
   "execution_count": 16,
   "id": "84ce78f7",
   "metadata": {
    "execution": {
     "iopub.execute_input": "2023-03-07T14:30:19.099743Z",
     "iopub.status.busy": "2023-03-07T14:30:19.099293Z",
     "iopub.status.idle": "2023-03-07T14:35:24.273711Z",
     "shell.execute_reply": "2023-03-07T14:35:24.272597Z"
    },
    "papermill": {
     "duration": 305.195227,
     "end_time": "2023-03-07T14:35:24.284182",
     "exception": false,
     "start_time": "2023-03-07T14:30:19.088955",
     "status": "completed"
    },
    "tags": []
   },
   "outputs": [
    {
     "name": "stdout",
     "output_type": "stream",
     "text": [
      "TS: 39\n"
     ]
    },
    {
     "data": {
      "text/html": [
       "<style type='text/css'>\n",
       ".datatable table.frame { margin-bottom: 0; }\n",
       ".datatable table.frame thead { border-bottom: none; }\n",
       ".datatable table.frame tr.coltypes td {  color: #FFFFFF;  line-height: 6px;  padding: 0 0.5em;}\n",
       ".datatable .bool    { background: #DDDD99; }\n",
       ".datatable .object  { background: #565656; }\n",
       ".datatable .int     { background: #5D9E5D; }\n",
       ".datatable .float   { background: #4040CC; }\n",
       ".datatable .str     { background: #CC4040; }\n",
       ".datatable .time    { background: #40CC40; }\n",
       ".datatable .row_index {  background: var(--jp-border-color3);  border-right: 1px solid var(--jp-border-color0);  color: var(--jp-ui-font-color3);  font-size: 9px;}\n",
       ".datatable .frame tbody td { text-align: left; }\n",
       ".datatable .frame tr.coltypes .row_index {  background: var(--jp-border-color0);}\n",
       ".datatable th:nth-child(2) { padding-left: 12px; }\n",
       ".datatable .hellipsis {  color: var(--jp-cell-editor-border-color);}\n",
       ".datatable .vellipsis {  background: var(--jp-layout-color0);  color: var(--jp-cell-editor-border-color);}\n",
       ".datatable .na {  color: var(--jp-cell-editor-border-color);  font-size: 80%;}\n",
       ".datatable .sp {  opacity: 0.25;}\n",
       ".datatable .footer { font-size: 9px; }\n",
       ".datatable .frame_dimensions {  background: var(--jp-border-color3);  border-top: 1px solid var(--jp-border-color0);  color: var(--jp-ui-font-color3);  display: inline-block;  opacity: 0.6;  padding: 1px 10px 1px 5px;}\n",
       "</style>\n"
      ],
      "text/plain": [
       "<IPython.core.display.HTML object>"
      ]
     },
     "metadata": {},
     "output_type": "display_data"
    },
    {
     "name": "stderr",
     "output_type": "stream",
     "text": [
      "/opt/conda/lib/python3.7/site-packages/lightgbm/engine.py:177: UserWarning: Found `n_iter` in params. Will use it instead of argument\n",
      "  _log_warning(f\"Found `{alias}` in params. Will use it instead of argument\")\n"
     ]
    },
    {
     "name": "stdout",
     "output_type": "stream",
     "text": [
      "[LightGBM] [Warning] lambda_l2 is set=0.5, reg_lambda=0.0 will be ignored. Current value: lambda_l2=0.5\n",
      "[LightGBM] [Warning] min_data_in_leaf is set=213, min_child_samples=20 will be ignored. Current value: min_data_in_leaf=213\n",
      "[LightGBM] [Warning] seed is set=42, random_state=42 will be ignored. Current value: seed=42\n",
      "[LightGBM] [Warning] num_iterations is set=300, n_iter=300 will be ignored. Current value: num_iterations=300\n",
      "Last Value SMAPE: 1.889206717018118\n",
      "SMAPE: 1.8626317878552674\n",
      "\n",
      "SMAPE: 1.8626317878552674\n",
      "Last Value SMAPE: 1.889206717018118\n"
     ]
    }
   ],
   "source": [
    "raw['ypred_last'] = np.nan\n",
    "raw['ypred'] = np.nan\n",
    "raw['k'] = 1.\n",
    "raw['microbusiness_density'].fillna(0, inplace = True)\n",
    "\n",
    "\n",
    "for TS in range(MONTH_1, MONTH_last): #40):\n",
    "    print(f'TS: {TS}')\n",
    "   \n",
    "    # model = get_model()\n",
    "    models = base_models()\n",
    "    model0 = models['xgb']\n",
    "    model1 = models['lgbm']\n",
    "    model2 = models['cat']\n",
    "            \n",
    "    train_indices = (raw.istest==0) & (raw.dcount  < TS) & (raw.dcount >= 1) & (raw.lastactive>ACT_THR) \n",
    "    valid_indices = (raw.istest==0) & (raw.dcount == TS) \n",
    "    \n",
    "    # Train each of the models on the current TS\n",
    "    model0.fit(\n",
    "        raw.loc[train_indices, features],\n",
    "        raw.loc[train_indices, 'target'].clip(-0.002, 0.006))\n",
    "    \n",
    "    model1.fit(\n",
    "        raw.loc[train_indices, features],\n",
    "        raw.loc[train_indices, 'target'].clip(-0.002, 0.006))\n",
    "    \n",
    "    model2.fit(\n",
    "        raw.loc[train_indices, features],\n",
    "        raw.loc[train_indices, 'target'].clip(-0.002, 0.006))\n",
    "    \n",
    "\n",
    "    tr_pred0 = model0.predict(raw.loc[train_indices, features])\n",
    "    tr_pred1 = model1.predict(raw.loc[train_indices, features])\n",
    "    tr_pred2 = model2.predict(raw.loc[train_indices, features])\n",
    "    train_preds = np.column_stack((tr_pred0, tr_pred1, tr_pred2))\n",
    "    \n",
    "    meta_model = get_model() \n",
    "    meta_model.fit(train_preds, raw.loc[train_indices, 'target'].clip(-0.002, 0.006))\n",
    "    \n",
    "    val_preds0 = model0.predict(raw.loc[valid_indices, features])\n",
    "    val_preds1 = model1.predict(raw.loc[valid_indices, features])\n",
    "    val_preds2 = model2.predict(raw.loc[valid_indices, features])\n",
    "    valid_preds = np.column_stack((val_preds0, val_preds1, val_preds2))\n",
    "    \n",
    "    ypred = meta_model.predict(valid_preds)\n",
    "    raw.loc[valid_indices, 'k'] = ypred + 1\n",
    "    raw.loc[valid_indices,'k'] = raw.loc[valid_indices,'k'] * raw.loc[valid_indices,'microbusiness_density']\n",
    "\n",
    "    # Validate\n",
    "    lastval = raw.loc[raw.dcount==TS, ['cfips', 'microbusiness_density']].set_index('cfips').to_dict()['microbusiness_density']\n",
    "    dt = raw.loc[raw.dcount==TS, ['cfips', 'k']].set_index('cfips').to_dict()['k']\n",
    "    \n",
    "    df = raw.loc[raw.dcount==(TS+1), \n",
    "                 ['cfips', 'microbusiness_density', 'state', 'lastactive', 'mbd_lag_1']].reset_index(drop=True)\n",
    "    df['pred'] = df['cfips'].map(dt)\n",
    "    df['lastval'] = df['cfips'].map(lastval)\n",
    "    \n",
    "#     df.loc[df['lastval'].isnull(), 'lastval'] = df.loc[df['lastval'].isnull(), 'microbusiness_density']    \n",
    "    \n",
    "    df.loc[df['lastactive']<=ACT_THR, 'pred'] = df.loc[df['lastactive']<=ACT_THR, 'lastval']\n",
    "        \n",
    "    raw.loc[raw.dcount==(TS+1), 'ypred'] = df['pred'].values\n",
    "    raw.loc[raw.dcount==(TS+1), 'ypred_last'] = df['lastval'].values\n",
    "    \n",
    "    print('Last Value SMAPE:', smape(df['microbusiness_density'], df['lastval']) )\n",
    "    print('SMAPE:', smape(df['microbusiness_density'], df['pred']))\n",
    "    print()\n",
    "\n",
    "ind = (raw.dcount > MONTH_1)&(raw.dcount <= MONTH_last)\n",
    "\n",
    "print('SMAPE:', smape( raw.loc[ind, 'microbusiness_density'],  raw.loc[ind, 'ypred']))\n",
    "print('Last Value SMAPE:', smape( raw.loc[ind, 'microbusiness_density'],  raw.loc[ind, 'ypred_last']))"
   ]
  },
  {
   "cell_type": "code",
   "execution_count": 17,
   "id": "c635b612",
   "metadata": {
    "execution": {
     "iopub.execute_input": "2023-03-07T14:35:24.302909Z",
     "iopub.status.busy": "2023-03-07T14:35:24.302494Z",
     "iopub.status.idle": "2023-03-07T14:35:24.324369Z",
     "shell.execute_reply": "2023-03-07T14:35:24.323048Z"
    },
    "papermill": {
     "duration": 0.034277,
     "end_time": "2023-03-07T14:35:24.326989",
     "exception": false,
     "start_time": "2023-03-07T14:35:24.292712",
     "status": "completed"
    },
    "tags": []
   },
   "outputs": [
    {
     "data": {
      "text/html": [
       "<div>\n",
       "<style scoped>\n",
       "    .dataframe tbody tr th:only-of-type {\n",
       "        vertical-align: middle;\n",
       "    }\n",
       "\n",
       "    .dataframe tbody tr th {\n",
       "        vertical-align: top;\n",
       "    }\n",
       "\n",
       "    .dataframe thead th {\n",
       "        text-align: right;\n",
       "    }\n",
       "</style>\n",
       "<table border=\"1\" class=\"dataframe\">\n",
       "  <thead>\n",
       "    <tr style=\"text-align: right;\">\n",
       "      <th></th>\n",
       "      <th>index</th>\n",
       "      <th>row_id</th>\n",
       "      <th>cfips</th>\n",
       "      <th>county</th>\n",
       "      <th>state</th>\n",
       "      <th>first_day_of_month</th>\n",
       "      <th>microbusiness_density</th>\n",
       "      <th>active</th>\n",
       "      <th>istest</th>\n",
       "      <th>lng</th>\n",
       "      <th>...</th>\n",
       "      <th>RNETMIG2021</th>\n",
       "      <th>rot_15_x</th>\n",
       "      <th>rot_15_y</th>\n",
       "      <th>rot_30_x</th>\n",
       "      <th>rot_30_y</th>\n",
       "      <th>rot_45_x</th>\n",
       "      <th>rot_45_y</th>\n",
       "      <th>ypred_last</th>\n",
       "      <th>ypred</th>\n",
       "      <th>k</th>\n",
       "    </tr>\n",
       "  </thead>\n",
       "  <tbody>\n",
       "  </tbody>\n",
       "</table>\n",
       "<p>0 rows × 110 columns</p>\n",
       "</div>"
      ],
      "text/plain": [
       "Empty DataFrame\n",
       "Columns: [index, row_id, cfips, county, state, first_day_of_month, microbusiness_density, active, istest, lng, lat, state_i1, county_i1, dcount, county_i, state_i, scale, mbd_lag_1, dif, target, lastactive, act_lag_1, mbd_lag_2, act_lag_2, mbd_lag_3, act_lag_3, mbd_lag_4, act_lag_4, mbd_lag_5, act_lag_5, mbd_lag_6, act_lag_6, mbd_lag_7, act_lag_7, mbd_lag_8, act_lag_8, mbd_rollmea2_1, mbd_rollmea4_1, mbd_rollmea6_1, mbd_rollmea8_1, mbd_rollmea10_1, pct_bb_2017, pct_bb_2018, pct_bb_2019, pct_bb_2020, pct_bb_2021, pct_college_2017, pct_college_2018, pct_college_2019, pct_college_2020, pct_college_2021, pct_foreign_born_2017, pct_foreign_born_2018, pct_foreign_born_2019, pct_foreign_born_2020, pct_foreign_born_2021, pct_it_workers_2017, pct_it_workers_2018, pct_it_workers_2019, pct_it_workers_2020, pct_it_workers_2021, median_hh_inc_2017, median_hh_inc_2018, median_hh_inc_2019, median_hh_inc_2020, median_hh_inc_2021, SUMLEV, REGION, DIVISION, STATE, COUNTY, STNAME, CTYNAME, ESTIMATESBASE2020, POPESTIMATE2020, POPESTIMATE2021, NPOPCHG2020, NPOPCHG2021, BIRTHS2020, BIRTHS2021, DEATHS2020, DEATHS2021, NATURALCHG2020, NATURALCHG2021, INTERNATIONALMIG2020, INTERNATIONALMIG2021, DOMESTICMIG2020, DOMESTICMIG2021, NETMIG2020, NETMIG2021, RESIDUAL2020, RESIDUAL2021, GQESTIMATESBASE2020, GQESTIMATES2020, GQESTIMATES2021, RBIRTH2021, RDEATH2021, RNATURALCHG2021, RINTERNATIONALMIG2021, RDOMESTICMIG2021, ...]\n",
       "Index: []\n",
       "\n",
       "[0 rows x 110 columns]"
      ]
     },
     "execution_count": 17,
     "metadata": {},
     "output_type": "execute_result"
    }
   ],
   "source": [
    "raw[raw['microbusiness_density'].isnull()]"
   ]
  },
  {
   "cell_type": "code",
   "execution_count": 18,
   "id": "a21adb5d",
   "metadata": {
    "execution": {
     "iopub.execute_input": "2023-03-07T14:35:24.346505Z",
     "iopub.status.busy": "2023-03-07T14:35:24.346157Z",
     "iopub.status.idle": "2023-03-07T14:42:31.490926Z",
     "shell.execute_reply": "2023-03-07T14:42:31.489473Z"
    },
    "papermill": {
     "duration": 427.157778,
     "end_time": "2023-03-07T14:42:31.493818",
     "exception": false,
     "start_time": "2023-03-07T14:35:24.336040",
     "status": "completed"
    },
    "tags": []
   },
   "outputs": [
    {
     "name": "stdout",
     "output_type": "stream",
     "text": [
      "40\n"
     ]
    },
    {
     "name": "stderr",
     "output_type": "stream",
     "text": [
      "/opt/conda/lib/python3.7/site-packages/lightgbm/engine.py:177: UserWarning: Found `n_iter` in params. Will use it instead of argument\n",
      "  _log_warning(f\"Found `{alias}` in params. Will use it instead of argument\")\n"
     ]
    },
    {
     "name": "stdout",
     "output_type": "stream",
     "text": [
      "[LightGBM] [Warning] lambda_l2 is set=0.5, reg_lambda=0.0 will be ignored. Current value: lambda_l2=0.5\n",
      "[LightGBM] [Warning] min_data_in_leaf is set=213, min_child_samples=20 will be ignored. Current value: min_data_in_leaf=213\n",
      "[LightGBM] [Warning] seed is set=42, random_state=42 will be ignored. Current value: seed=42\n",
      "[LightGBM] [Warning] num_iterations is set=300, n_iter=300 will be ignored. Current value: num_iterations=300\n"
     ]
    }
   ],
   "source": [
    "TS = 40\n",
    "print(TS)\n",
    "\n",
    "model0 = get_model()\n",
    "\n",
    "train_indices = (raw.istest==0) & (raw.dcount  < TS) & (raw.dcount >= 1) & (raw.lastactive>ACT_THR) \n",
    "valid_indices = (raw.dcount == TS)\n",
    "\n",
    "model0.fit(\n",
    "        raw.loc[train_indices, features],\n",
    "        raw.loc[train_indices, 'target'].clip(-0.002, 0.006))\n",
    "    \n",
    "model1.fit(\n",
    "    raw.loc[train_indices, features],\n",
    "    raw.loc[train_indices, 'target'].clip(-0.002, 0.006))\n",
    "\n",
    "model2.fit(\n",
    "    raw.loc[train_indices, features],\n",
    "    raw.loc[train_indices, 'target'].clip(-0.002, 0.006))\n",
    "\n",
    "\n",
    "tr_pred0 = model0.predict(raw.loc[train_indices, features])\n",
    "tr_pred1 = model1.predict(raw.loc[train_indices, features])\n",
    "tr_pred2 = model2.predict(raw.loc[train_indices, features])\n",
    "train_preds = np.column_stack((tr_pred0, tr_pred1, tr_pred2))\n",
    "\n",
    "meta_model = get_model() \n",
    "meta_model.fit(train_preds, raw.loc[train_indices, 'target'].clip(-0.002, 0.006))\n",
    "\n",
    "val_preds0 = model0.predict(raw.loc[valid_indices, features])\n",
    "val_preds1 = model1.predict(raw.loc[valid_indices, features])\n",
    "val_preds2 = model2.predict(raw.loc[valid_indices, features])\n",
    "valid_preds = np.column_stack((val_preds0, val_preds1, val_preds2))\n",
    "\n",
    "ypred = meta_model.predict(valid_preds)\n",
    "\n",
    "# ypred = model0.predict(raw.loc[valid_indices, features])\n",
    "raw.loc[valid_indices, 'k'] = ypred + 1.\n",
    "raw.loc[valid_indices,'k'] = raw.loc[valid_indices,'k'] * raw.loc[valid_indices,'microbusiness_density']\n",
    "\n",
    "# Validate\n",
    "lastval = raw.loc[raw.dcount==TS, ['cfips', 'microbusiness_density']].set_index('cfips').to_dict()['microbusiness_density']\n",
    "dt = raw.loc[raw.dcount==TS, ['cfips', 'k']].set_index('cfips').to_dict()['k']"
   ]
  },
  {
   "cell_type": "code",
   "execution_count": 19,
   "id": "ac595bd3",
   "metadata": {
    "execution": {
     "iopub.execute_input": "2023-03-07T14:42:31.514718Z",
     "iopub.status.busy": "2023-03-07T14:42:31.513698Z",
     "iopub.status.idle": "2023-03-07T14:42:31.526631Z",
     "shell.execute_reply": "2023-03-07T14:42:31.525775Z"
    },
    "papermill": {
     "duration": 0.025679,
     "end_time": "2023-03-07T14:42:31.528972",
     "exception": false,
     "start_time": "2023-03-07T14:42:31.503293",
     "status": "completed"
    },
    "tags": []
   },
   "outputs": [],
   "source": [
    "df = raw.loc[raw.dcount==(TS+1), ['cfips', 'microbusiness_density', 'state', 'lastactive', 'mbd_lag_1']].reset_index(drop=True)"
   ]
  },
  {
   "cell_type": "code",
   "execution_count": 20,
   "id": "7ba89e2f",
   "metadata": {
    "execution": {
     "iopub.execute_input": "2023-03-07T14:42:31.549580Z",
     "iopub.status.busy": "2023-03-07T14:42:31.549192Z",
     "iopub.status.idle": "2023-03-07T14:42:31.565918Z",
     "shell.execute_reply": "2023-03-07T14:42:31.565000Z"
    },
    "papermill": {
     "duration": 0.02999,
     "end_time": "2023-03-07T14:42:31.568263",
     "exception": false,
     "start_time": "2023-03-07T14:42:31.538273",
     "status": "completed"
    },
    "tags": []
   },
   "outputs": [],
   "source": [
    "df['pred'] = df['cfips'].map(dt)\n",
    "df['lastval'] = df['cfips'].map(lastval)\n",
    "\n",
    "df.loc[df['lastactive']<=ACT_THR, 'pred'] = df.loc[df['lastactive']<=ACT_THR, 'lastval']\n",
    "\n",
    "raw.loc[raw.dcount==(TS+1), 'ypred'] = df['pred'].values\n",
    "raw.loc[raw.dcount==(TS+1), 'ypred_last'] = df['lastval'].values"
   ]
  },
  {
   "cell_type": "code",
   "execution_count": 21,
   "id": "931508d0",
   "metadata": {
    "execution": {
     "iopub.execute_input": "2023-03-07T14:42:31.588363Z",
     "iopub.status.busy": "2023-03-07T14:42:31.587964Z",
     "iopub.status.idle": "2023-03-07T14:42:31.597717Z",
     "shell.execute_reply": "2023-03-07T14:42:31.596902Z"
    },
    "papermill": {
     "duration": 0.02256,
     "end_time": "2023-03-07T14:42:31.600026",
     "exception": false,
     "start_time": "2023-03-07T14:42:31.577466",
     "status": "completed"
    },
    "tags": []
   },
   "outputs": [],
   "source": [
    "mask = (raw.lastactive > 150) & (raw.dcount==(TS+1))\n",
    "k = 0.1\n",
    "raw.loc[mask, 'ypred'] = k * 1.005 * raw.loc[mask, 'ypred_last'] + (1-k) * raw.loc[mask, 'ypred'] "
   ]
  },
  {
   "cell_type": "code",
   "execution_count": 22,
   "id": "dfdca293",
   "metadata": {
    "execution": {
     "iopub.execute_input": "2023-03-07T14:42:31.620222Z",
     "iopub.status.busy": "2023-03-07T14:42:31.619859Z",
     "iopub.status.idle": "2023-03-07T14:42:31.627632Z",
     "shell.execute_reply": "2023-03-07T14:42:31.626782Z"
    },
    "papermill": {
     "duration": 0.020463,
     "end_time": "2023-03-07T14:42:31.629746",
     "exception": false,
     "start_time": "2023-03-07T14:42:31.609283",
     "status": "completed"
    },
    "scrolled": true,
    "tags": []
   },
   "outputs": [],
   "source": [
    "raw.loc[raw['cfips']==28055, 'microbusiness_density'] = 0\n",
    "raw.loc[raw['cfips']==48269, 'microbusiness_density'] = 1.762115"
   ]
  },
  {
   "cell_type": "code",
   "execution_count": 23,
   "id": "555078ad",
   "metadata": {
    "execution": {
     "iopub.execute_input": "2023-03-07T14:42:31.649321Z",
     "iopub.status.busy": "2023-03-07T14:42:31.648902Z",
     "iopub.status.idle": "2023-03-07T14:42:32.303245Z",
     "shell.execute_reply": "2023-03-07T14:42:32.302314Z"
    },
    "papermill": {
     "duration": 0.667019,
     "end_time": "2023-03-07T14:42:32.305845",
     "exception": false,
     "start_time": "2023-03-07T14:42:31.638826",
     "status": "completed"
    },
    "tags": []
   },
   "outputs": [],
   "source": [
    "COLS = ['GEO_ID','NAME','S0101_C01_026E']\n",
    "df2020 = pd.read_csv('/kaggle/input/census-data-for-godaddy/ACSST5Y2020.S0101-Data.csv', usecols=COLS, dtype = 'object')\n",
    "df2021 = pd.read_csv('/kaggle/input/census-data-for-godaddy/ACSST5Y2021.S0101-Data.csv',usecols=COLS, dtype = 'object')\n",
    "\n",
    "df2020 = df2020.iloc[1:]\n",
    "df2020 = df2020.astype({'S0101_C01_026E':'int'})\n",
    "\n",
    "df2021 = df2021.iloc[1:]\n",
    "df2021 = df2021.astype({'S0101_C01_026E':'int'})\n",
    "\n",
    "df2020['cfips'] = df2020.GEO_ID.apply(lambda x: int(x.split('US')[-1]))\n",
    "adult2020 = df2020.set_index('cfips').S0101_C01_026E.to_dict()\n",
    "\n",
    "df2021['cfips'] = df2021.GEO_ID.apply(lambda x: int(x.split('US')[-1]))\n",
    "adult2021 = df2021.set_index('cfips').S0101_C01_026E.to_dict()\n",
    "\n",
    "df2020['mnoshitel'] = df2020['S0101_C01_026E'] / df2021['S0101_C01_026E']\n",
    "\n",
    "df2020 = df2020[['cfips','mnoshitel']]\n",
    "df2020.set_index('cfips', inplace=True)"
   ]
  },
  {
   "cell_type": "code",
   "execution_count": 24,
   "id": "f4b1dc99",
   "metadata": {
    "execution": {
     "iopub.execute_input": "2023-03-07T14:42:32.325707Z",
     "iopub.status.busy": "2023-03-07T14:42:32.325303Z",
     "iopub.status.idle": "2023-03-07T14:42:32.534795Z",
     "shell.execute_reply": "2023-03-07T14:42:32.533790Z"
    },
    "papermill": {
     "duration": 0.222378,
     "end_time": "2023-03-07T14:42:32.537439",
     "exception": false,
     "start_time": "2023-03-07T14:42:32.315061",
     "status": "completed"
    },
    "tags": []
   },
   "outputs": [],
   "source": [
    "raw = raw.join(df2020, on='cfips')\n",
    "maska = (raw[\"first_day_of_month\"]=='2023-01-01')\n",
    "raw.loc[maska, 'microbusiness_density'] = raw.loc[maska, 'ypred'] * raw.loc[maska, 'mnoshitel']\n",
    "raw.drop(columns = 'mnoshitel' , inplace = True)"
   ]
  },
  {
   "cell_type": "code",
   "execution_count": 25,
   "id": "e3025472",
   "metadata": {
    "execution": {
     "iopub.execute_input": "2023-03-07T14:42:32.557402Z",
     "iopub.status.busy": "2023-03-07T14:42:32.557035Z",
     "iopub.status.idle": "2023-03-07T14:42:32.633961Z",
     "shell.execute_reply": "2023-03-07T14:42:32.632773Z"
    },
    "papermill": {
     "duration": 0.089771,
     "end_time": "2023-03-07T14:42:32.636484",
     "exception": false,
     "start_time": "2023-03-07T14:42:32.546713",
     "status": "completed"
    },
    "tags": []
   },
   "outputs": [],
   "source": [
    "test = raw[raw.first_day_of_month >= '2022-11-01'].copy()\n",
    "test = test[['row_id', 'cfips', 'microbusiness_density']]\n",
    "test = test[['row_id', 'microbusiness_density']]\n",
    "test.to_csv('submission.csv', index=False)"
   ]
  },
  {
   "cell_type": "code",
   "execution_count": 26,
   "id": "231a0fd5",
   "metadata": {
    "execution": {
     "iopub.execute_input": "2023-03-07T14:42:32.656836Z",
     "iopub.status.busy": "2023-03-07T14:42:32.656414Z",
     "iopub.status.idle": "2023-03-07T14:42:37.982595Z",
     "shell.execute_reply": "2023-03-07T14:42:37.981514Z"
    },
    "papermill": {
     "duration": 5.33917,
     "end_time": "2023-03-07T14:42:37.985020",
     "exception": false,
     "start_time": "2023-03-07T14:42:32.645850",
     "status": "completed"
    },
    "tags": []
   },
   "outputs": [
    {
     "data": {
      "text/html": [
       "<div>\n",
       "<style scoped>\n",
       "    .dataframe tbody tr th:only-of-type {\n",
       "        vertical-align: middle;\n",
       "    }\n",
       "\n",
       "    .dataframe tbody tr th {\n",
       "        vertical-align: top;\n",
       "    }\n",
       "\n",
       "    .dataframe thead th {\n",
       "        text-align: right;\n",
       "    }\n",
       "</style>\n",
       "<table border=\"1\" class=\"dataframe\">\n",
       "  <thead>\n",
       "    <tr style=\"text-align: right;\">\n",
       "      <th></th>\n",
       "      <th>row_id</th>\n",
       "      <th>microbusiness_density</th>\n",
       "    </tr>\n",
       "  </thead>\n",
       "  <tbody>\n",
       "    <tr>\n",
       "      <th>39</th>\n",
       "      <td>1001_2022-11-01</td>\n",
       "      <td>3.405280</td>\n",
       "    </tr>\n",
       "    <tr>\n",
       "      <th>40</th>\n",
       "      <td>1001_2022-12-01</td>\n",
       "      <td>3.423634</td>\n",
       "    </tr>\n",
       "    <tr>\n",
       "      <th>41</th>\n",
       "      <td>1001_2023-01-01</td>\n",
       "      <td>3.336825</td>\n",
       "    </tr>\n",
       "    <tr>\n",
       "      <th>42</th>\n",
       "      <td>1001_2023-02-01</td>\n",
       "      <td>1.167540</td>\n",
       "    </tr>\n",
       "    <tr>\n",
       "      <th>43</th>\n",
       "      <td>1001_2023-03-01</td>\n",
       "      <td>1.167540</td>\n",
       "    </tr>\n",
       "    <tr>\n",
       "      <th>44</th>\n",
       "      <td>1001_2023-04-01</td>\n",
       "      <td>1.167540</td>\n",
       "    </tr>\n",
       "    <tr>\n",
       "      <th>45</th>\n",
       "      <td>1001_2023-05-01</td>\n",
       "      <td>1.167540</td>\n",
       "    </tr>\n",
       "    <tr>\n",
       "      <th>46</th>\n",
       "      <td>1001_2023-06-01</td>\n",
       "      <td>1.167540</td>\n",
       "    </tr>\n",
       "    <tr>\n",
       "      <th>86</th>\n",
       "      <td>1003_2022-11-01</td>\n",
       "      <td>8.158672</td>\n",
       "    </tr>\n",
       "    <tr>\n",
       "      <th>87</th>\n",
       "      <td>1003_2022-12-01</td>\n",
       "      <td>8.154119</td>\n",
       "    </tr>\n",
       "    <tr>\n",
       "      <th>88</th>\n",
       "      <td>1003_2023-01-01</td>\n",
       "      <td>7.961877</td>\n",
       "    </tr>\n",
       "    <tr>\n",
       "      <th>89</th>\n",
       "      <td>1003_2023-02-01</td>\n",
       "      <td>2.791209</td>\n",
       "    </tr>\n",
       "    <tr>\n",
       "      <th>90</th>\n",
       "      <td>1003_2023-03-01</td>\n",
       "      <td>2.791209</td>\n",
       "    </tr>\n",
       "    <tr>\n",
       "      <th>91</th>\n",
       "      <td>1003_2023-04-01</td>\n",
       "      <td>2.791209</td>\n",
       "    </tr>\n",
       "    <tr>\n",
       "      <th>92</th>\n",
       "      <td>1003_2023-05-01</td>\n",
       "      <td>2.791209</td>\n",
       "    </tr>\n",
       "    <tr>\n",
       "      <th>93</th>\n",
       "      <td>1003_2023-06-01</td>\n",
       "      <td>2.791209</td>\n",
       "    </tr>\n",
       "    <tr>\n",
       "      <th>133</th>\n",
       "      <td>1005_2022-11-01</td>\n",
       "      <td>1.246974</td>\n",
       "    </tr>\n",
       "    <tr>\n",
       "      <th>134</th>\n",
       "      <td>1005_2022-12-01</td>\n",
       "      <td>1.250256</td>\n",
       "    </tr>\n",
       "    <tr>\n",
       "      <th>135</th>\n",
       "      <td>1005_2023-01-01</td>\n",
       "      <td>1.247222</td>\n",
       "    </tr>\n",
       "    <tr>\n",
       "      <th>136</th>\n",
       "      <td>1005_2023-02-01</td>\n",
       "      <td>0.436279</td>\n",
       "    </tr>\n",
       "    <tr>\n",
       "      <th>137</th>\n",
       "      <td>1005_2023-03-01</td>\n",
       "      <td>0.436279</td>\n",
       "    </tr>\n",
       "    <tr>\n",
       "      <th>138</th>\n",
       "      <td>1005_2023-04-01</td>\n",
       "      <td>0.436279</td>\n",
       "    </tr>\n",
       "    <tr>\n",
       "      <th>139</th>\n",
       "      <td>1005_2023-05-01</td>\n",
       "      <td>0.436279</td>\n",
       "    </tr>\n",
       "    <tr>\n",
       "      <th>140</th>\n",
       "      <td>1005_2023-06-01</td>\n",
       "      <td>0.436279</td>\n",
       "    </tr>\n",
       "    <tr>\n",
       "      <th>180</th>\n",
       "      <td>1007_2022-11-01</td>\n",
       "      <td>1.281931</td>\n",
       "    </tr>\n",
       "    <tr>\n",
       "      <th>181</th>\n",
       "      <td>1007_2022-12-01</td>\n",
       "      <td>1.289238</td>\n",
       "    </tr>\n",
       "    <tr>\n",
       "      <th>182</th>\n",
       "      <td>1007_2023-01-01</td>\n",
       "      <td>1.292800</td>\n",
       "    </tr>\n",
       "    <tr>\n",
       "      <th>183</th>\n",
       "      <td>1007_2023-02-01</td>\n",
       "      <td>0.452532</td>\n",
       "    </tr>\n",
       "    <tr>\n",
       "      <th>184</th>\n",
       "      <td>1007_2023-03-01</td>\n",
       "      <td>0.452532</td>\n",
       "    </tr>\n",
       "    <tr>\n",
       "      <th>185</th>\n",
       "      <td>1007_2023-04-01</td>\n",
       "      <td>0.452532</td>\n",
       "    </tr>\n",
       "    <tr>\n",
       "      <th>186</th>\n",
       "      <td>1007_2023-05-01</td>\n",
       "      <td>0.452532</td>\n",
       "    </tr>\n",
       "    <tr>\n",
       "      <th>187</th>\n",
       "      <td>1007_2023-06-01</td>\n",
       "      <td>0.452532</td>\n",
       "    </tr>\n",
       "    <tr>\n",
       "      <th>227</th>\n",
       "      <td>1009_2022-11-01</td>\n",
       "      <td>1.833260</td>\n",
       "    </tr>\n",
       "    <tr>\n",
       "      <th>228</th>\n",
       "      <td>1009_2022-12-01</td>\n",
       "      <td>1.843512</td>\n",
       "    </tr>\n",
       "    <tr>\n",
       "      <th>229</th>\n",
       "      <td>1009_2023-01-01</td>\n",
       "      <td>1.826773</td>\n",
       "    </tr>\n",
       "    <tr>\n",
       "      <th>230</th>\n",
       "      <td>1009_2023-02-01</td>\n",
       "      <td>0.639673</td>\n",
       "    </tr>\n",
       "    <tr>\n",
       "      <th>231</th>\n",
       "      <td>1009_2023-03-01</td>\n",
       "      <td>0.639673</td>\n",
       "    </tr>\n",
       "    <tr>\n",
       "      <th>232</th>\n",
       "      <td>1009_2023-04-01</td>\n",
       "      <td>0.639673</td>\n",
       "    </tr>\n",
       "    <tr>\n",
       "      <th>233</th>\n",
       "      <td>1009_2023-05-01</td>\n",
       "      <td>0.639673</td>\n",
       "    </tr>\n",
       "    <tr>\n",
       "      <th>234</th>\n",
       "      <td>1009_2023-06-01</td>\n",
       "      <td>0.639673</td>\n",
       "    </tr>\n",
       "  </tbody>\n",
       "</table>\n",
       "</div>"
      ],
      "text/plain": [
       "              row_id  microbusiness_density\n",
       "39   1001_2022-11-01               3.405280\n",
       "40   1001_2022-12-01               3.423634\n",
       "41   1001_2023-01-01               3.336825\n",
       "42   1001_2023-02-01               1.167540\n",
       "43   1001_2023-03-01               1.167540\n",
       "44   1001_2023-04-01               1.167540\n",
       "45   1001_2023-05-01               1.167540\n",
       "46   1001_2023-06-01               1.167540\n",
       "86   1003_2022-11-01               8.158672\n",
       "87   1003_2022-12-01               8.154119\n",
       "88   1003_2023-01-01               7.961877\n",
       "89   1003_2023-02-01               2.791209\n",
       "90   1003_2023-03-01               2.791209\n",
       "91   1003_2023-04-01               2.791209\n",
       "92   1003_2023-05-01               2.791209\n",
       "93   1003_2023-06-01               2.791209\n",
       "133  1005_2022-11-01               1.246974\n",
       "134  1005_2022-12-01               1.250256\n",
       "135  1005_2023-01-01               1.247222\n",
       "136  1005_2023-02-01               0.436279\n",
       "137  1005_2023-03-01               0.436279\n",
       "138  1005_2023-04-01               0.436279\n",
       "139  1005_2023-05-01               0.436279\n",
       "140  1005_2023-06-01               0.436279\n",
       "180  1007_2022-11-01               1.281931\n",
       "181  1007_2022-12-01               1.289238\n",
       "182  1007_2023-01-01               1.292800\n",
       "183  1007_2023-02-01               0.452532\n",
       "184  1007_2023-03-01               0.452532\n",
       "185  1007_2023-04-01               0.452532\n",
       "186  1007_2023-05-01               0.452532\n",
       "187  1007_2023-06-01               0.452532\n",
       "227  1009_2022-11-01               1.833260\n",
       "228  1009_2022-12-01               1.843512\n",
       "229  1009_2023-01-01               1.826773\n",
       "230  1009_2023-02-01               0.639673\n",
       "231  1009_2023-03-01               0.639673\n",
       "232  1009_2023-04-01               0.639673\n",
       "233  1009_2023-05-01               0.639673\n",
       "234  1009_2023-06-01               0.639673"
      ]
     },
     "execution_count": 26,
     "metadata": {},
     "output_type": "execute_result"
    }
   ],
   "source": [
    "sub = pd.read_csv(\"/kaggle/input/godaddy-lb-13803/submission.csv\")\n",
    "for i, row in sub.iterrows():\n",
    "    test.iat[i,1] = (\n",
    "        0.65*test.iat[i,1] +\n",
    "        0.35*row[\"microbusiness_density\"]\n",
    "    )\n",
    "test.to_csv('submission.csv', index=False)\n",
    "test.head(40)"
   ]
  },
  {
   "cell_type": "code",
   "execution_count": null,
   "id": "909e4f82",
   "metadata": {
    "papermill": {
     "duration": 0.008885,
     "end_time": "2023-03-07T14:42:38.003386",
     "exception": false,
     "start_time": "2023-03-07T14:42:37.994501",
     "status": "completed"
    },
    "tags": []
   },
   "outputs": [],
   "source": []
  }
 ],
 "metadata": {
  "kernelspec": {
   "display_name": "Python 3",
   "language": "python",
   "name": "python3"
  },
  "language_info": {
   "codemirror_mode": {
    "name": "ipython",
    "version": 3
   },
   "file_extension": ".py",
   "mimetype": "text/x-python",
   "name": "python",
   "nbconvert_exporter": "python",
   "pygments_lexer": "ipython3",
   "version": "3.7.12"
  },
  "papermill": {
   "default_parameters": {},
   "duration": 768.500321,
   "end_time": "2023-03-07T14:42:38.835086",
   "environment_variables": {},
   "exception": null,
   "input_path": "__notebook__.ipynb",
   "output_path": "__notebook__.ipynb",
   "parameters": {},
   "start_time": "2023-03-07T14:29:50.334765",
   "version": "2.3.4"
  },
  "widgets": {
   "application/vnd.jupyter.widget-state+json": {
    "state": {
     "1b5d5adbf4994d24a7c555f7e7e3b072": {
      "model_module": "@jupyter-widgets/controls",
      "model_module_version": "1.5.0",
      "model_name": "HTMLModel",
      "state": {
       "_dom_classes": [],
       "_model_module": "@jupyter-widgets/controls",
       "_model_module_version": "1.5.0",
       "_model_name": "HTMLModel",
       "_view_count": null,
       "_view_module": "@jupyter-widgets/controls",
       "_view_module_version": "1.5.0",
       "_view_name": "HTMLView",
       "description": "",
       "description_tooltip": null,
       "layout": "IPY_MODEL_e49e0a4f5e9c4e2c8ad4aacad8f34ec8",
       "placeholder": "​",
       "style": "IPY_MODEL_393378d62e924ba597e95b8c3afd78f0",
       "value": "100%"
      }
     },
     "393378d62e924ba597e95b8c3afd78f0": {
      "model_module": "@jupyter-widgets/controls",
      "model_module_version": "1.5.0",
      "model_name": "DescriptionStyleModel",
      "state": {
       "_model_module": "@jupyter-widgets/controls",
       "_model_module_version": "1.5.0",
       "_model_name": "DescriptionStyleModel",
       "_view_count": null,
       "_view_module": "@jupyter-widgets/base",
       "_view_module_version": "1.2.0",
       "_view_name": "StyleView",
       "description_width": ""
      }
     },
     "3da7f71a489a4655b4ec6df212678de3": {
      "model_module": "@jupyter-widgets/base",
      "model_module_version": "1.2.0",
      "model_name": "LayoutModel",
      "state": {
       "_model_module": "@jupyter-widgets/base",
       "_model_module_version": "1.2.0",
       "_model_name": "LayoutModel",
       "_view_count": null,
       "_view_module": "@jupyter-widgets/base",
       "_view_module_version": "1.2.0",
       "_view_name": "LayoutView",
       "align_content": null,
       "align_items": null,
       "align_self": null,
       "border": null,
       "bottom": null,
       "display": null,
       "flex": null,
       "flex_flow": null,
       "grid_area": null,
       "grid_auto_columns": null,
       "grid_auto_flow": null,
       "grid_auto_rows": null,
       "grid_column": null,
       "grid_gap": null,
       "grid_row": null,
       "grid_template_areas": null,
       "grid_template_columns": null,
       "grid_template_rows": null,
       "height": null,
       "justify_content": null,
       "justify_items": null,
       "left": null,
       "margin": null,
       "max_height": null,
       "max_width": null,
       "min_height": null,
       "min_width": null,
       "object_fit": null,
       "object_position": null,
       "order": null,
       "overflow": null,
       "overflow_x": null,
       "overflow_y": null,
       "padding": null,
       "right": null,
       "top": null,
       "visibility": null,
       "width": null
      }
     },
     "690710a870b54bdd95d0263b48f141c5": {
      "model_module": "@jupyter-widgets/controls",
      "model_module_version": "1.5.0",
      "model_name": "HBoxModel",
      "state": {
       "_dom_classes": [],
       "_model_module": "@jupyter-widgets/controls",
       "_model_module_version": "1.5.0",
       "_model_name": "HBoxModel",
       "_view_count": null,
       "_view_module": "@jupyter-widgets/controls",
       "_view_module_version": "1.5.0",
       "_view_name": "HBoxView",
       "box_style": "",
       "children": [
        "IPY_MODEL_1b5d5adbf4994d24a7c555f7e7e3b072",
        "IPY_MODEL_98fd7f8956fd4e0d91e52416418f8294",
        "IPY_MODEL_6fd23caf7ecb41678cba498aa881b818"
       ],
       "layout": "IPY_MODEL_c7c78524fba64e0687d3e22fcba80c6c"
      }
     },
     "6fd23caf7ecb41678cba498aa881b818": {
      "model_module": "@jupyter-widgets/controls",
      "model_module_version": "1.5.0",
      "model_name": "HTMLModel",
      "state": {
       "_dom_classes": [],
       "_model_module": "@jupyter-widgets/controls",
       "_model_module_version": "1.5.0",
       "_model_name": "HTMLModel",
       "_view_count": null,
       "_view_module": "@jupyter-widgets/controls",
       "_view_module_version": "1.5.0",
       "_view_name": "HTMLView",
       "description": "",
       "description_tooltip": null,
       "layout": "IPY_MODEL_3da7f71a489a4655b4ec6df212678de3",
       "placeholder": "​",
       "style": "IPY_MODEL_bf4cb79fff9a48dcb05d189f7fa892c0",
       "value": " 3135/3135 [00:07&lt;00:00, 456.61it/s]"
      }
     },
     "91b38ac8292c4be38b3cd9edde44230d": {
      "model_module": "@jupyter-widgets/base",
      "model_module_version": "1.2.0",
      "model_name": "LayoutModel",
      "state": {
       "_model_module": "@jupyter-widgets/base",
       "_model_module_version": "1.2.0",
       "_model_name": "LayoutModel",
       "_view_count": null,
       "_view_module": "@jupyter-widgets/base",
       "_view_module_version": "1.2.0",
       "_view_name": "LayoutView",
       "align_content": null,
       "align_items": null,
       "align_self": null,
       "border": null,
       "bottom": null,
       "display": null,
       "flex": null,
       "flex_flow": null,
       "grid_area": null,
       "grid_auto_columns": null,
       "grid_auto_flow": null,
       "grid_auto_rows": null,
       "grid_column": null,
       "grid_gap": null,
       "grid_row": null,
       "grid_template_areas": null,
       "grid_template_columns": null,
       "grid_template_rows": null,
       "height": null,
       "justify_content": null,
       "justify_items": null,
       "left": null,
       "margin": null,
       "max_height": null,
       "max_width": null,
       "min_height": null,
       "min_width": null,
       "object_fit": null,
       "object_position": null,
       "order": null,
       "overflow": null,
       "overflow_x": null,
       "overflow_y": null,
       "padding": null,
       "right": null,
       "top": null,
       "visibility": null,
       "width": null
      }
     },
     "98fd7f8956fd4e0d91e52416418f8294": {
      "model_module": "@jupyter-widgets/controls",
      "model_module_version": "1.5.0",
      "model_name": "FloatProgressModel",
      "state": {
       "_dom_classes": [],
       "_model_module": "@jupyter-widgets/controls",
       "_model_module_version": "1.5.0",
       "_model_name": "FloatProgressModel",
       "_view_count": null,
       "_view_module": "@jupyter-widgets/controls",
       "_view_module_version": "1.5.0",
       "_view_name": "ProgressView",
       "bar_style": "success",
       "description": "",
       "description_tooltip": null,
       "layout": "IPY_MODEL_91b38ac8292c4be38b3cd9edde44230d",
       "max": 3135.0,
       "min": 0.0,
       "orientation": "horizontal",
       "style": "IPY_MODEL_d657234126ae41cdbe7a030ab7f0418f",
       "value": 3135.0
      }
     },
     "bf4cb79fff9a48dcb05d189f7fa892c0": {
      "model_module": "@jupyter-widgets/controls",
      "model_module_version": "1.5.0",
      "model_name": "DescriptionStyleModel",
      "state": {
       "_model_module": "@jupyter-widgets/controls",
       "_model_module_version": "1.5.0",
       "_model_name": "DescriptionStyleModel",
       "_view_count": null,
       "_view_module": "@jupyter-widgets/base",
       "_view_module_version": "1.2.0",
       "_view_name": "StyleView",
       "description_width": ""
      }
     },
     "c7c78524fba64e0687d3e22fcba80c6c": {
      "model_module": "@jupyter-widgets/base",
      "model_module_version": "1.2.0",
      "model_name": "LayoutModel",
      "state": {
       "_model_module": "@jupyter-widgets/base",
       "_model_module_version": "1.2.0",
       "_model_name": "LayoutModel",
       "_view_count": null,
       "_view_module": "@jupyter-widgets/base",
       "_view_module_version": "1.2.0",
       "_view_name": "LayoutView",
       "align_content": null,
       "align_items": null,
       "align_self": null,
       "border": null,
       "bottom": null,
       "display": null,
       "flex": null,
       "flex_flow": null,
       "grid_area": null,
       "grid_auto_columns": null,
       "grid_auto_flow": null,
       "grid_auto_rows": null,
       "grid_column": null,
       "grid_gap": null,
       "grid_row": null,
       "grid_template_areas": null,
       "grid_template_columns": null,
       "grid_template_rows": null,
       "height": null,
       "justify_content": null,
       "justify_items": null,
       "left": null,
       "margin": null,
       "max_height": null,
       "max_width": null,
       "min_height": null,
       "min_width": null,
       "object_fit": null,
       "object_position": null,
       "order": null,
       "overflow": null,
       "overflow_x": null,
       "overflow_y": null,
       "padding": null,
       "right": null,
       "top": null,
       "visibility": null,
       "width": null
      }
     },
     "d657234126ae41cdbe7a030ab7f0418f": {
      "model_module": "@jupyter-widgets/controls",
      "model_module_version": "1.5.0",
      "model_name": "ProgressStyleModel",
      "state": {
       "_model_module": "@jupyter-widgets/controls",
       "_model_module_version": "1.5.0",
       "_model_name": "ProgressStyleModel",
       "_view_count": null,
       "_view_module": "@jupyter-widgets/base",
       "_view_module_version": "1.2.0",
       "_view_name": "StyleView",
       "bar_color": null,
       "description_width": ""
      }
     },
     "e49e0a4f5e9c4e2c8ad4aacad8f34ec8": {
      "model_module": "@jupyter-widgets/base",
      "model_module_version": "1.2.0",
      "model_name": "LayoutModel",
      "state": {
       "_model_module": "@jupyter-widgets/base",
       "_model_module_version": "1.2.0",
       "_model_name": "LayoutModel",
       "_view_count": null,
       "_view_module": "@jupyter-widgets/base",
       "_view_module_version": "1.2.0",
       "_view_name": "LayoutView",
       "align_content": null,
       "align_items": null,
       "align_self": null,
       "border": null,
       "bottom": null,
       "display": null,
       "flex": null,
       "flex_flow": null,
       "grid_area": null,
       "grid_auto_columns": null,
       "grid_auto_flow": null,
       "grid_auto_rows": null,
       "grid_column": null,
       "grid_gap": null,
       "grid_row": null,
       "grid_template_areas": null,
       "grid_template_columns": null,
       "grid_template_rows": null,
       "height": null,
       "justify_content": null,
       "justify_items": null,
       "left": null,
       "margin": null,
       "max_height": null,
       "max_width": null,
       "min_height": null,
       "min_width": null,
       "object_fit": null,
       "object_position": null,
       "order": null,
       "overflow": null,
       "overflow_x": null,
       "overflow_y": null,
       "padding": null,
       "right": null,
       "top": null,
       "visibility": null,
       "width": null
      }
     }
    },
    "version_major": 2,
    "version_minor": 0
   }
  }
 },
 "nbformat": 4,
 "nbformat_minor": 5
}
